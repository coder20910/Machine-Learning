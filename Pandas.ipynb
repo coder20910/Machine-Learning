{
  "nbformat": 4,
  "nbformat_minor": 0,
  "metadata": {
    "colab": {
      "name": "Copy of Untitled2.ipynb",
      "provenance": [],
      "collapsed_sections": [],
      "authorship_tag": "ABX9TyONnGO0xfzixBIQyR/4fClj",
      "include_colab_link": true
    },
    "kernelspec": {
      "name": "python3",
      "display_name": "Python 3"
    }
  },
  "cells": [
    {
      "cell_type": "markdown",
      "metadata": {
        "id": "view-in-github",
        "colab_type": "text"
      },
      "source": [
        "<a href=\"https://colab.research.google.com/github/coder20910/Machine-Learning/blob/master/Pandas.ipynb\" target=\"_parent\"><img src=\"https://colab.research.google.com/assets/colab-badge.svg\" alt=\"Open In Colab\"/></a>"
      ]
    },
    {
      "cell_type": "markdown",
      "metadata": {
        "id": "sGOxul52QfYW",
        "colab_type": "text"
      },
      "source": [
        "# Pandas Exercise "
      ]
    },
    {
      "cell_type": "markdown",
      "metadata": {
        "id": "08XchedrQfFD",
        "colab_type": "text"
      },
      "source": [
        "# Importing Libraries"
      ]
    },
    {
      "cell_type": "code",
      "metadata": {
        "id": "oh_HWLLY9w37",
        "colab_type": "code",
        "colab": {}
      },
      "source": [
        "import numpy as np\n",
        "import pandas as pd"
      ],
      "execution_count": 2,
      "outputs": []
    },
    {
      "cell_type": "markdown",
      "metadata": {
        "id": "9y8uAFOLRMH8",
        "colab_type": "text"
      },
      "source": [
        "# Operations on data"
      ]
    },
    {
      "cell_type": "code",
      "metadata": {
        "id": "D6eSixStRAr3",
        "colab_type": "code",
        "colab": {}
      },
      "source": [
        "dict1 = {\n",
        "    \"name\":['Chandan','Sumit','Ajay','Manohar'],\n",
        "    \"marks\":[92,92,92,92],\n",
        "    \"city\":['Aurangabad','Muzzafarpur','Bhagalpur','Madhubani']\n",
        "}"
      ],
      "execution_count": 3,
      "outputs": []
    },
    {
      "cell_type": "code",
      "metadata": {
        "id": "U_kvFBEeR0pc",
        "colab_type": "code",
        "colab": {}
      },
      "source": [
        "df = pd.DataFrame(dict1)   # Converts into dataframe"
      ],
      "execution_count": 4,
      "outputs": []
    },
    {
      "cell_type": "code",
      "metadata": {
        "id": "tz5bEYQtR0uk",
        "colab_type": "code",
        "colab": {
          "base_uri": "https://localhost:8080/",
          "height": 173
        },
        "outputId": "9e0256c0-c697-4868-cceb-2f71b33e3395"
      },
      "source": [
        "df"
      ],
      "execution_count": 5,
      "outputs": [
        {
          "output_type": "execute_result",
          "data": {
            "text/html": [
              "<div>\n",
              "<style scoped>\n",
              "    .dataframe tbody tr th:only-of-type {\n",
              "        vertical-align: middle;\n",
              "    }\n",
              "\n",
              "    .dataframe tbody tr th {\n",
              "        vertical-align: top;\n",
              "    }\n",
              "\n",
              "    .dataframe thead th {\n",
              "        text-align: right;\n",
              "    }\n",
              "</style>\n",
              "<table border=\"1\" class=\"dataframe\">\n",
              "  <thead>\n",
              "    <tr style=\"text-align: right;\">\n",
              "      <th></th>\n",
              "      <th>name</th>\n",
              "      <th>marks</th>\n",
              "      <th>city</th>\n",
              "    </tr>\n",
              "  </thead>\n",
              "  <tbody>\n",
              "    <tr>\n",
              "      <th>0</th>\n",
              "      <td>Chandan</td>\n",
              "      <td>92</td>\n",
              "      <td>Aurangabad</td>\n",
              "    </tr>\n",
              "    <tr>\n",
              "      <th>1</th>\n",
              "      <td>Sumit</td>\n",
              "      <td>92</td>\n",
              "      <td>Muzzafarpur</td>\n",
              "    </tr>\n",
              "    <tr>\n",
              "      <th>2</th>\n",
              "      <td>Ajay</td>\n",
              "      <td>92</td>\n",
              "      <td>Bhagalpur</td>\n",
              "    </tr>\n",
              "    <tr>\n",
              "      <th>3</th>\n",
              "      <td>Manohar</td>\n",
              "      <td>92</td>\n",
              "      <td>Madhubani</td>\n",
              "    </tr>\n",
              "  </tbody>\n",
              "</table>\n",
              "</div>"
            ],
            "text/plain": [
              "      name  marks         city\n",
              "0  Chandan     92   Aurangabad\n",
              "1    Sumit     92  Muzzafarpur\n",
              "2     Ajay     92    Bhagalpur\n",
              "3  Manohar     92    Madhubani"
            ]
          },
          "metadata": {
            "tags": []
          },
          "execution_count": 5
        }
      ]
    },
    {
      "cell_type": "markdown",
      "metadata": {
        "id": "qAR9WdHDu1Yr",
        "colab_type": "text"
      },
      "source": [
        "# Conversion of Dataframe to CSV"
      ]
    },
    {
      "cell_type": "code",
      "metadata": {
        "id": "D3uua38HR0tM",
        "colab_type": "code",
        "colab": {}
      },
      "source": [
        "df.to_csv('Friends')  # Converts into CSV file"
      ],
      "execution_count": 6,
      "outputs": []
    },
    {
      "cell_type": "code",
      "metadata": {
        "id": "MgK-lGwsR0of",
        "colab_type": "code",
        "colab": {
          "base_uri": "https://localhost:8080/",
          "height": 111
        },
        "outputId": "5594ed39-9b99-41f1-8cba-e0d219d63b0e"
      },
      "source": [
        "df.head(2)        # Display the first two rows of whole dataframe"
      ],
      "execution_count": 7,
      "outputs": [
        {
          "output_type": "execute_result",
          "data": {
            "text/html": [
              "<div>\n",
              "<style scoped>\n",
              "    .dataframe tbody tr th:only-of-type {\n",
              "        vertical-align: middle;\n",
              "    }\n",
              "\n",
              "    .dataframe tbody tr th {\n",
              "        vertical-align: top;\n",
              "    }\n",
              "\n",
              "    .dataframe thead th {\n",
              "        text-align: right;\n",
              "    }\n",
              "</style>\n",
              "<table border=\"1\" class=\"dataframe\">\n",
              "  <thead>\n",
              "    <tr style=\"text-align: right;\">\n",
              "      <th></th>\n",
              "      <th>name</th>\n",
              "      <th>marks</th>\n",
              "      <th>city</th>\n",
              "    </tr>\n",
              "  </thead>\n",
              "  <tbody>\n",
              "    <tr>\n",
              "      <th>0</th>\n",
              "      <td>Chandan</td>\n",
              "      <td>92</td>\n",
              "      <td>Aurangabad</td>\n",
              "    </tr>\n",
              "    <tr>\n",
              "      <th>1</th>\n",
              "      <td>Sumit</td>\n",
              "      <td>92</td>\n",
              "      <td>Muzzafarpur</td>\n",
              "    </tr>\n",
              "  </tbody>\n",
              "</table>\n",
              "</div>"
            ],
            "text/plain": [
              "      name  marks         city\n",
              "0  Chandan     92   Aurangabad\n",
              "1    Sumit     92  Muzzafarpur"
            ]
          },
          "metadata": {
            "tags": []
          },
          "execution_count": 7
        }
      ]
    },
    {
      "cell_type": "code",
      "metadata": {
        "id": "87VDq03yV8MR",
        "colab_type": "code",
        "colab": {
          "base_uri": "https://localhost:8080/",
          "height": 111
        },
        "outputId": "9190efc1-259d-4278-c5e7-3c4c5d9de943"
      },
      "source": [
        "df.tail(2)          # Display the last two rows of whole datafram"
      ],
      "execution_count": 8,
      "outputs": [
        {
          "output_type": "execute_result",
          "data": {
            "text/html": [
              "<div>\n",
              "<style scoped>\n",
              "    .dataframe tbody tr th:only-of-type {\n",
              "        vertical-align: middle;\n",
              "    }\n",
              "\n",
              "    .dataframe tbody tr th {\n",
              "        vertical-align: top;\n",
              "    }\n",
              "\n",
              "    .dataframe thead th {\n",
              "        text-align: right;\n",
              "    }\n",
              "</style>\n",
              "<table border=\"1\" class=\"dataframe\">\n",
              "  <thead>\n",
              "    <tr style=\"text-align: right;\">\n",
              "      <th></th>\n",
              "      <th>name</th>\n",
              "      <th>marks</th>\n",
              "      <th>city</th>\n",
              "    </tr>\n",
              "  </thead>\n",
              "  <tbody>\n",
              "    <tr>\n",
              "      <th>2</th>\n",
              "      <td>Ajay</td>\n",
              "      <td>92</td>\n",
              "      <td>Bhagalpur</td>\n",
              "    </tr>\n",
              "    <tr>\n",
              "      <th>3</th>\n",
              "      <td>Manohar</td>\n",
              "      <td>92</td>\n",
              "      <td>Madhubani</td>\n",
              "    </tr>\n",
              "  </tbody>\n",
              "</table>\n",
              "</div>"
            ],
            "text/plain": [
              "      name  marks       city\n",
              "2     Ajay     92  Bhagalpur\n",
              "3  Manohar     92  Madhubani"
            ]
          },
          "metadata": {
            "tags": []
          },
          "execution_count": 8
        }
      ]
    },
    {
      "cell_type": "code",
      "metadata": {
        "id": "UYDXt85NV0Lk",
        "colab_type": "code",
        "colab": {
          "base_uri": "https://localhost:8080/",
          "height": 297
        },
        "outputId": "2b7350d3-344f-4012-f964-cf7e32b1a51d"
      },
      "source": [
        "df.describe()    # It will do statistics analysis "
      ],
      "execution_count": 9,
      "outputs": [
        {
          "output_type": "execute_result",
          "data": {
            "text/html": [
              "<div>\n",
              "<style scoped>\n",
              "    .dataframe tbody tr th:only-of-type {\n",
              "        vertical-align: middle;\n",
              "    }\n",
              "\n",
              "    .dataframe tbody tr th {\n",
              "        vertical-align: top;\n",
              "    }\n",
              "\n",
              "    .dataframe thead th {\n",
              "        text-align: right;\n",
              "    }\n",
              "</style>\n",
              "<table border=\"1\" class=\"dataframe\">\n",
              "  <thead>\n",
              "    <tr style=\"text-align: right;\">\n",
              "      <th></th>\n",
              "      <th>marks</th>\n",
              "    </tr>\n",
              "  </thead>\n",
              "  <tbody>\n",
              "    <tr>\n",
              "      <th>count</th>\n",
              "      <td>4.0</td>\n",
              "    </tr>\n",
              "    <tr>\n",
              "      <th>mean</th>\n",
              "      <td>92.0</td>\n",
              "    </tr>\n",
              "    <tr>\n",
              "      <th>std</th>\n",
              "      <td>0.0</td>\n",
              "    </tr>\n",
              "    <tr>\n",
              "      <th>min</th>\n",
              "      <td>92.0</td>\n",
              "    </tr>\n",
              "    <tr>\n",
              "      <th>25%</th>\n",
              "      <td>92.0</td>\n",
              "    </tr>\n",
              "    <tr>\n",
              "      <th>50%</th>\n",
              "      <td>92.0</td>\n",
              "    </tr>\n",
              "    <tr>\n",
              "      <th>75%</th>\n",
              "      <td>92.0</td>\n",
              "    </tr>\n",
              "    <tr>\n",
              "      <th>max</th>\n",
              "      <td>92.0</td>\n",
              "    </tr>\n",
              "  </tbody>\n",
              "</table>\n",
              "</div>"
            ],
            "text/plain": [
              "       marks\n",
              "count    4.0\n",
              "mean    92.0\n",
              "std      0.0\n",
              "min     92.0\n",
              "25%     92.0\n",
              "50%     92.0\n",
              "75%     92.0\n",
              "max     92.0"
            ]
          },
          "metadata": {
            "tags": []
          },
          "execution_count": 9
        }
      ]
    },
    {
      "cell_type": "markdown",
      "metadata": {
        "id": "uw2dIUENu9sy",
        "colab_type": "text"
      },
      "source": [
        "# Reading CSV File"
      ]
    },
    {
      "cell_type": "code",
      "metadata": {
        "id": "US8MJSa8V5vv",
        "colab_type": "code",
        "colab": {}
      },
      "source": [
        "friends = pd.read_csv('Friends')"
      ],
      "execution_count": 10,
      "outputs": []
    },
    {
      "cell_type": "code",
      "metadata": {
        "id": "SrA7M8ZtsZzu",
        "colab_type": "code",
        "colab": {
          "base_uri": "https://localhost:8080/",
          "height": 173
        },
        "outputId": "9a90b4fd-1fc1-406e-e874-b3265d4dcc99"
      },
      "source": [
        "friends"
      ],
      "execution_count": 11,
      "outputs": [
        {
          "output_type": "execute_result",
          "data": {
            "text/html": [
              "<div>\n",
              "<style scoped>\n",
              "    .dataframe tbody tr th:only-of-type {\n",
              "        vertical-align: middle;\n",
              "    }\n",
              "\n",
              "    .dataframe tbody tr th {\n",
              "        vertical-align: top;\n",
              "    }\n",
              "\n",
              "    .dataframe thead th {\n",
              "        text-align: right;\n",
              "    }\n",
              "</style>\n",
              "<table border=\"1\" class=\"dataframe\">\n",
              "  <thead>\n",
              "    <tr style=\"text-align: right;\">\n",
              "      <th></th>\n",
              "      <th>Unnamed: 0</th>\n",
              "      <th>name</th>\n",
              "      <th>marks</th>\n",
              "      <th>city</th>\n",
              "    </tr>\n",
              "  </thead>\n",
              "  <tbody>\n",
              "    <tr>\n",
              "      <th>0</th>\n",
              "      <td>0</td>\n",
              "      <td>Chandan</td>\n",
              "      <td>92</td>\n",
              "      <td>Aurangabad</td>\n",
              "    </tr>\n",
              "    <tr>\n",
              "      <th>1</th>\n",
              "      <td>1</td>\n",
              "      <td>Sumit</td>\n",
              "      <td>92</td>\n",
              "      <td>Muzzafarpur</td>\n",
              "    </tr>\n",
              "    <tr>\n",
              "      <th>2</th>\n",
              "      <td>2</td>\n",
              "      <td>Ajay</td>\n",
              "      <td>92</td>\n",
              "      <td>Bhagalpur</td>\n",
              "    </tr>\n",
              "    <tr>\n",
              "      <th>3</th>\n",
              "      <td>3</td>\n",
              "      <td>Manohar</td>\n",
              "      <td>92</td>\n",
              "      <td>Madhubani</td>\n",
              "    </tr>\n",
              "  </tbody>\n",
              "</table>\n",
              "</div>"
            ],
            "text/plain": [
              "   Unnamed: 0     name  marks         city\n",
              "0           0  Chandan     92   Aurangabad\n",
              "1           1    Sumit     92  Muzzafarpur\n",
              "2           2     Ajay     92    Bhagalpur\n",
              "3           3  Manohar     92    Madhubani"
            ]
          },
          "metadata": {
            "tags": []
          },
          "execution_count": 11
        }
      ]
    },
    {
      "cell_type": "code",
      "metadata": {
        "id": "NJeMO2UOsiHi",
        "colab_type": "code",
        "colab": {
          "base_uri": "https://localhost:8080/",
          "height": 122
        },
        "outputId": "1bec7055-099d-4dca-d8e1-831f916ac8c8"
      },
      "source": [
        "friends['marks'][0] = 93    # It wiil change the value"
      ],
      "execution_count": 12,
      "outputs": [
        {
          "output_type": "stream",
          "text": [
            "/usr/local/lib/python3.6/dist-packages/ipykernel_launcher.py:1: SettingWithCopyWarning: \n",
            "A value is trying to be set on a copy of a slice from a DataFrame\n",
            "\n",
            "See the caveats in the documentation: https://pandas.pydata.org/pandas-docs/stable/user_guide/indexing.html#returning-a-view-versus-a-copy\n",
            "  \"\"\"Entry point for launching an IPython kernel.\n"
          ],
          "name": "stderr"
        }
      ]
    },
    {
      "cell_type": "code",
      "metadata": {
        "id": "XGOXcu4YsiVh",
        "colab_type": "code",
        "colab": {
          "base_uri": "https://localhost:8080/",
          "height": 173
        },
        "outputId": "e3272fa8-dc23-49ab-aeac-18d3e17fcb3e"
      },
      "source": [
        "friends"
      ],
      "execution_count": 13,
      "outputs": [
        {
          "output_type": "execute_result",
          "data": {
            "text/html": [
              "<div>\n",
              "<style scoped>\n",
              "    .dataframe tbody tr th:only-of-type {\n",
              "        vertical-align: middle;\n",
              "    }\n",
              "\n",
              "    .dataframe tbody tr th {\n",
              "        vertical-align: top;\n",
              "    }\n",
              "\n",
              "    .dataframe thead th {\n",
              "        text-align: right;\n",
              "    }\n",
              "</style>\n",
              "<table border=\"1\" class=\"dataframe\">\n",
              "  <thead>\n",
              "    <tr style=\"text-align: right;\">\n",
              "      <th></th>\n",
              "      <th>Unnamed: 0</th>\n",
              "      <th>name</th>\n",
              "      <th>marks</th>\n",
              "      <th>city</th>\n",
              "    </tr>\n",
              "  </thead>\n",
              "  <tbody>\n",
              "    <tr>\n",
              "      <th>0</th>\n",
              "      <td>0</td>\n",
              "      <td>Chandan</td>\n",
              "      <td>93</td>\n",
              "      <td>Aurangabad</td>\n",
              "    </tr>\n",
              "    <tr>\n",
              "      <th>1</th>\n",
              "      <td>1</td>\n",
              "      <td>Sumit</td>\n",
              "      <td>92</td>\n",
              "      <td>Muzzafarpur</td>\n",
              "    </tr>\n",
              "    <tr>\n",
              "      <th>2</th>\n",
              "      <td>2</td>\n",
              "      <td>Ajay</td>\n",
              "      <td>92</td>\n",
              "      <td>Bhagalpur</td>\n",
              "    </tr>\n",
              "    <tr>\n",
              "      <th>3</th>\n",
              "      <td>3</td>\n",
              "      <td>Manohar</td>\n",
              "      <td>92</td>\n",
              "      <td>Madhubani</td>\n",
              "    </tr>\n",
              "  </tbody>\n",
              "</table>\n",
              "</div>"
            ],
            "text/plain": [
              "   Unnamed: 0     name  marks         city\n",
              "0           0  Chandan     93   Aurangabad\n",
              "1           1    Sumit     92  Muzzafarpur\n",
              "2           2     Ajay     92    Bhagalpur\n",
              "3           3  Manohar     92    Madhubani"
            ]
          },
          "metadata": {
            "tags": []
          },
          "execution_count": 13
        }
      ]
    },
    {
      "cell_type": "code",
      "metadata": {
        "id": "eGf3Sf5MuT0V",
        "colab_type": "code",
        "colab": {}
      },
      "source": [
        "friends.index = ['first', 'second', 'third','fourth'] # Changing the index name"
      ],
      "execution_count": 14,
      "outputs": []
    },
    {
      "cell_type": "code",
      "metadata": {
        "id": "_-H_FuAeuUAt",
        "colab_type": "code",
        "colab": {
          "base_uri": "https://localhost:8080/",
          "height": 173
        },
        "outputId": "6f6dbdbe-edc1-4cdb-f478-5acab4e40813"
      },
      "source": [
        "friends"
      ],
      "execution_count": 15,
      "outputs": [
        {
          "output_type": "execute_result",
          "data": {
            "text/html": [
              "<div>\n",
              "<style scoped>\n",
              "    .dataframe tbody tr th:only-of-type {\n",
              "        vertical-align: middle;\n",
              "    }\n",
              "\n",
              "    .dataframe tbody tr th {\n",
              "        vertical-align: top;\n",
              "    }\n",
              "\n",
              "    .dataframe thead th {\n",
              "        text-align: right;\n",
              "    }\n",
              "</style>\n",
              "<table border=\"1\" class=\"dataframe\">\n",
              "  <thead>\n",
              "    <tr style=\"text-align: right;\">\n",
              "      <th></th>\n",
              "      <th>Unnamed: 0</th>\n",
              "      <th>name</th>\n",
              "      <th>marks</th>\n",
              "      <th>city</th>\n",
              "    </tr>\n",
              "  </thead>\n",
              "  <tbody>\n",
              "    <tr>\n",
              "      <th>first</th>\n",
              "      <td>0</td>\n",
              "      <td>Chandan</td>\n",
              "      <td>93</td>\n",
              "      <td>Aurangabad</td>\n",
              "    </tr>\n",
              "    <tr>\n",
              "      <th>second</th>\n",
              "      <td>1</td>\n",
              "      <td>Sumit</td>\n",
              "      <td>92</td>\n",
              "      <td>Muzzafarpur</td>\n",
              "    </tr>\n",
              "    <tr>\n",
              "      <th>third</th>\n",
              "      <td>2</td>\n",
              "      <td>Ajay</td>\n",
              "      <td>92</td>\n",
              "      <td>Bhagalpur</td>\n",
              "    </tr>\n",
              "    <tr>\n",
              "      <th>fourth</th>\n",
              "      <td>3</td>\n",
              "      <td>Manohar</td>\n",
              "      <td>92</td>\n",
              "      <td>Madhubani</td>\n",
              "    </tr>\n",
              "  </tbody>\n",
              "</table>\n",
              "</div>"
            ],
            "text/plain": [
              "        Unnamed: 0     name  marks         city\n",
              "first            0  Chandan     93   Aurangabad\n",
              "second           1    Sumit     92  Muzzafarpur\n",
              "third            2     Ajay     92    Bhagalpur\n",
              "fourth           3  Manohar     92    Madhubani"
            ]
          },
          "metadata": {
            "tags": []
          },
          "execution_count": 15
        }
      ]
    },
    {
      "cell_type": "markdown",
      "metadata": {
        "id": "Of3AEZdlx5Lg",
        "colab_type": "text"
      },
      "source": [
        "# Generation of Random data using concept of series"
      ]
    },
    {
      "cell_type": "code",
      "metadata": {
        "id": "uIvMNnCvvl5O",
        "colab_type": "code",
        "colab": {}
      },
      "source": [
        "ser = pd.Series(np.random.rand(34)) # It will generate n random series data "
      ],
      "execution_count": 16,
      "outputs": []
    },
    {
      "cell_type": "code",
      "metadata": {
        "id": "-FCPbQYpx4Yx",
        "colab_type": "code",
        "colab": {
          "base_uri": "https://localhost:8080/",
          "height": 612
        },
        "outputId": "26f7ae28-11ba-4d79-9af4-a86341f07cf4"
      },
      "source": [
        "ser"
      ],
      "execution_count": 17,
      "outputs": [
        {
          "output_type": "execute_result",
          "data": {
            "text/plain": [
              "0     0.769195\n",
              "1     0.087066\n",
              "2     0.927788\n",
              "3     0.784230\n",
              "4     0.035202\n",
              "5     0.047602\n",
              "6     0.241563\n",
              "7     0.912974\n",
              "8     0.914640\n",
              "9     0.499412\n",
              "10    0.677156\n",
              "11    0.141162\n",
              "12    0.122718\n",
              "13    0.205489\n",
              "14    0.730353\n",
              "15    0.388965\n",
              "16    0.719744\n",
              "17    0.117346\n",
              "18    0.427982\n",
              "19    0.885331\n",
              "20    0.398939\n",
              "21    0.473543\n",
              "22    0.428096\n",
              "23    0.670268\n",
              "24    0.187495\n",
              "25    0.286628\n",
              "26    0.448448\n",
              "27    0.622910\n",
              "28    0.751595\n",
              "29    0.906512\n",
              "30    0.931856\n",
              "31    0.405689\n",
              "32    0.374261\n",
              "33    0.480486\n",
              "dtype: float64"
            ]
          },
          "metadata": {
            "tags": []
          },
          "execution_count": 17
        }
      ]
    },
    {
      "cell_type": "code",
      "metadata": {
        "id": "zgcKIbmwyViB",
        "colab_type": "code",
        "colab": {
          "base_uri": "https://localhost:8080/",
          "height": 34
        },
        "outputId": "df54b08c-5989-4981-d217-c2bb92a4186c"
      },
      "source": [
        "type(ser)"
      ],
      "execution_count": 18,
      "outputs": [
        {
          "output_type": "execute_result",
          "data": {
            "text/plain": [
              "pandas.core.series.Series"
            ]
          },
          "metadata": {
            "tags": []
          },
          "execution_count": 18
        }
      ]
    },
    {
      "cell_type": "markdown",
      "metadata": {
        "id": "7AdMHbri0mne",
        "colab_type": "text"
      },
      "source": [
        "# Generation of DataFrame"
      ]
    },
    {
      "cell_type": "code",
      "metadata": {
        "id": "Ii6kZA6vyV0v",
        "colab_type": "code",
        "colab": {}
      },
      "source": [
        "newdf = pd.DataFrame(np.random.rand(334,5), index=np.arange(334)) # It will generate n x m random dataFra,e"
      ],
      "execution_count": 19,
      "outputs": []
    },
    {
      "cell_type": "code",
      "metadata": {
        "id": "hw4h5RYdymJ7",
        "colab_type": "code",
        "colab": {
          "base_uri": "https://localhost:8080/",
          "height": 419
        },
        "outputId": "14afe247-ec68-4fa6-e148-feba615dab97"
      },
      "source": [
        "newdf"
      ],
      "execution_count": 20,
      "outputs": [
        {
          "output_type": "execute_result",
          "data": {
            "text/html": [
              "<div>\n",
              "<style scoped>\n",
              "    .dataframe tbody tr th:only-of-type {\n",
              "        vertical-align: middle;\n",
              "    }\n",
              "\n",
              "    .dataframe tbody tr th {\n",
              "        vertical-align: top;\n",
              "    }\n",
              "\n",
              "    .dataframe thead th {\n",
              "        text-align: right;\n",
              "    }\n",
              "</style>\n",
              "<table border=\"1\" class=\"dataframe\">\n",
              "  <thead>\n",
              "    <tr style=\"text-align: right;\">\n",
              "      <th></th>\n",
              "      <th>0</th>\n",
              "      <th>1</th>\n",
              "      <th>2</th>\n",
              "      <th>3</th>\n",
              "      <th>4</th>\n",
              "    </tr>\n",
              "  </thead>\n",
              "  <tbody>\n",
              "    <tr>\n",
              "      <th>0</th>\n",
              "      <td>0.780563</td>\n",
              "      <td>0.665998</td>\n",
              "      <td>0.305865</td>\n",
              "      <td>0.760740</td>\n",
              "      <td>0.473353</td>\n",
              "    </tr>\n",
              "    <tr>\n",
              "      <th>1</th>\n",
              "      <td>0.395723</td>\n",
              "      <td>0.766573</td>\n",
              "      <td>0.992259</td>\n",
              "      <td>0.628542</td>\n",
              "      <td>0.311650</td>\n",
              "    </tr>\n",
              "    <tr>\n",
              "      <th>2</th>\n",
              "      <td>0.268596</td>\n",
              "      <td>0.040377</td>\n",
              "      <td>0.494291</td>\n",
              "      <td>0.967130</td>\n",
              "      <td>0.193529</td>\n",
              "    </tr>\n",
              "    <tr>\n",
              "      <th>3</th>\n",
              "      <td>0.338216</td>\n",
              "      <td>0.707649</td>\n",
              "      <td>0.217794</td>\n",
              "      <td>0.158542</td>\n",
              "      <td>0.873896</td>\n",
              "    </tr>\n",
              "    <tr>\n",
              "      <th>4</th>\n",
              "      <td>0.456514</td>\n",
              "      <td>0.525456</td>\n",
              "      <td>0.790216</td>\n",
              "      <td>0.601927</td>\n",
              "      <td>0.844689</td>\n",
              "    </tr>\n",
              "    <tr>\n",
              "      <th>...</th>\n",
              "      <td>...</td>\n",
              "      <td>...</td>\n",
              "      <td>...</td>\n",
              "      <td>...</td>\n",
              "      <td>...</td>\n",
              "    </tr>\n",
              "    <tr>\n",
              "      <th>329</th>\n",
              "      <td>0.463314</td>\n",
              "      <td>0.230378</td>\n",
              "      <td>0.561559</td>\n",
              "      <td>0.699623</td>\n",
              "      <td>0.222213</td>\n",
              "    </tr>\n",
              "    <tr>\n",
              "      <th>330</th>\n",
              "      <td>0.630390</td>\n",
              "      <td>0.630176</td>\n",
              "      <td>0.764641</td>\n",
              "      <td>0.610893</td>\n",
              "      <td>0.812103</td>\n",
              "    </tr>\n",
              "    <tr>\n",
              "      <th>331</th>\n",
              "      <td>0.280055</td>\n",
              "      <td>0.556596</td>\n",
              "      <td>0.733664</td>\n",
              "      <td>0.615917</td>\n",
              "      <td>0.530238</td>\n",
              "    </tr>\n",
              "    <tr>\n",
              "      <th>332</th>\n",
              "      <td>0.016227</td>\n",
              "      <td>0.733768</td>\n",
              "      <td>0.922315</td>\n",
              "      <td>0.918100</td>\n",
              "      <td>0.793854</td>\n",
              "    </tr>\n",
              "    <tr>\n",
              "      <th>333</th>\n",
              "      <td>0.831791</td>\n",
              "      <td>0.735859</td>\n",
              "      <td>0.010889</td>\n",
              "      <td>0.768371</td>\n",
              "      <td>0.953172</td>\n",
              "    </tr>\n",
              "  </tbody>\n",
              "</table>\n",
              "<p>334 rows × 5 columns</p>\n",
              "</div>"
            ],
            "text/plain": [
              "            0         1         2         3         4\n",
              "0    0.780563  0.665998  0.305865  0.760740  0.473353\n",
              "1    0.395723  0.766573  0.992259  0.628542  0.311650\n",
              "2    0.268596  0.040377  0.494291  0.967130  0.193529\n",
              "3    0.338216  0.707649  0.217794  0.158542  0.873896\n",
              "4    0.456514  0.525456  0.790216  0.601927  0.844689\n",
              "..        ...       ...       ...       ...       ...\n",
              "329  0.463314  0.230378  0.561559  0.699623  0.222213\n",
              "330  0.630390  0.630176  0.764641  0.610893  0.812103\n",
              "331  0.280055  0.556596  0.733664  0.615917  0.530238\n",
              "332  0.016227  0.733768  0.922315  0.918100  0.793854\n",
              "333  0.831791  0.735859  0.010889  0.768371  0.953172\n",
              "\n",
              "[334 rows x 5 columns]"
            ]
          },
          "metadata": {
            "tags": []
          },
          "execution_count": 20
        }
      ]
    },
    {
      "cell_type": "markdown",
      "metadata": {
        "id": "hLtZfenb0zaC",
        "colab_type": "text"
      },
      "source": [
        "# Important attributes and fun's"
      ]
    },
    {
      "cell_type": "code",
      "metadata": {
        "id": "gaOZL1r7y_Fb",
        "colab_type": "code",
        "colab": {
          "base_uri": "https://localhost:8080/",
          "height": 34
        },
        "outputId": "d2345608-eaed-4327-ebfb-2b7776d59c1b"
      },
      "source": [
        "type(newdf)"
      ],
      "execution_count": 21,
      "outputs": [
        {
          "output_type": "execute_result",
          "data": {
            "text/plain": [
              "pandas.core.frame.DataFrame"
            ]
          },
          "metadata": {
            "tags": []
          },
          "execution_count": 21
        }
      ]
    },
    {
      "cell_type": "code",
      "metadata": {
        "id": "lW345h0Iy_YZ",
        "colab_type": "code",
        "colab": {
          "base_uri": "https://localhost:8080/",
          "height": 119
        },
        "outputId": "3336925b-8d62-474b-c6bb-ab9e3a81ebf1"
      },
      "source": [
        "newdf.dtypes"
      ],
      "execution_count": 22,
      "outputs": [
        {
          "output_type": "execute_result",
          "data": {
            "text/plain": [
              "0    float64\n",
              "1    float64\n",
              "2    float64\n",
              "3    float64\n",
              "4    float64\n",
              "dtype: object"
            ]
          },
          "metadata": {
            "tags": []
          },
          "execution_count": 22
        }
      ]
    },
    {
      "cell_type": "code",
      "metadata": {
        "id": "YBsofdNIzovv",
        "colab_type": "code",
        "colab": {
          "base_uri": "https://localhost:8080/",
          "height": 85
        },
        "outputId": "c2a8c1d3-e7f9-43b0-8be6-78175cb2313c"
      },
      "source": [
        "newdf.index"
      ],
      "execution_count": 23,
      "outputs": [
        {
          "output_type": "execute_result",
          "data": {
            "text/plain": [
              "Int64Index([  0,   1,   2,   3,   4,   5,   6,   7,   8,   9,\n",
              "            ...\n",
              "            324, 325, 326, 327, 328, 329, 330, 331, 332, 333],\n",
              "           dtype='int64', length=334)"
            ]
          },
          "metadata": {
            "tags": []
          },
          "execution_count": 23
        }
      ]
    },
    {
      "cell_type": "code",
      "metadata": {
        "id": "hsVcC9LEz1NL",
        "colab_type": "code",
        "colab": {
          "base_uri": "https://localhost:8080/",
          "height": 34
        },
        "outputId": "036f56ff-be45-4054-a6fb-a830563bea97"
      },
      "source": [
        "newdf.columns"
      ],
      "execution_count": 24,
      "outputs": [
        {
          "output_type": "execute_result",
          "data": {
            "text/plain": [
              "RangeIndex(start=0, stop=5, step=1)"
            ]
          },
          "metadata": {
            "tags": []
          },
          "execution_count": 24
        }
      ]
    },
    {
      "cell_type": "code",
      "metadata": {
        "id": "yKtaXB5Xz1cZ",
        "colab_type": "code",
        "colab": {
          "base_uri": "https://localhost:8080/",
          "height": 136
        },
        "outputId": "755d5931-f9c8-47fd-e286-6673fdba2d7c"
      },
      "source": [
        "newdf.to_numpy() # Conversion of dataframe to numpy array"
      ],
      "execution_count": 25,
      "outputs": [
        {
          "output_type": "execute_result",
          "data": {
            "text/plain": [
              "array([[0.78056257, 0.66599848, 0.30586507, 0.76073956, 0.47335314],\n",
              "       [0.39572346, 0.76657318, 0.99225872, 0.6285418 , 0.31165039],\n",
              "       [0.26859612, 0.04037673, 0.49429144, 0.96712981, 0.19352913],\n",
              "       ...,\n",
              "       [0.2800549 , 0.55659577, 0.73366437, 0.61591742, 0.53023785],\n",
              "       [0.01622743, 0.73376782, 0.92231455, 0.91809955, 0.79385422],\n",
              "       [0.83179079, 0.7358587 , 0.01088867, 0.76837086, 0.95317156]])"
            ]
          },
          "metadata": {
            "tags": []
          },
          "execution_count": 25
        }
      ]
    },
    {
      "cell_type": "code",
      "metadata": {
        "id": "bpsCdvV10UFh",
        "colab_type": "code",
        "colab": {
          "base_uri": "https://localhost:8080/",
          "height": 253
        },
        "outputId": "8ced323d-e394-4dff-cd1a-027abae91ff0"
      },
      "source": [
        "newdf.T # Transpose of numpy array"
      ],
      "execution_count": 26,
      "outputs": [
        {
          "output_type": "execute_result",
          "data": {
            "text/html": [
              "<div>\n",
              "<style scoped>\n",
              "    .dataframe tbody tr th:only-of-type {\n",
              "        vertical-align: middle;\n",
              "    }\n",
              "\n",
              "    .dataframe tbody tr th {\n",
              "        vertical-align: top;\n",
              "    }\n",
              "\n",
              "    .dataframe thead th {\n",
              "        text-align: right;\n",
              "    }\n",
              "</style>\n",
              "<table border=\"1\" class=\"dataframe\">\n",
              "  <thead>\n",
              "    <tr style=\"text-align: right;\">\n",
              "      <th></th>\n",
              "      <th>0</th>\n",
              "      <th>1</th>\n",
              "      <th>2</th>\n",
              "      <th>3</th>\n",
              "      <th>4</th>\n",
              "      <th>5</th>\n",
              "      <th>6</th>\n",
              "      <th>7</th>\n",
              "      <th>8</th>\n",
              "      <th>9</th>\n",
              "      <th>10</th>\n",
              "      <th>11</th>\n",
              "      <th>12</th>\n",
              "      <th>13</th>\n",
              "      <th>14</th>\n",
              "      <th>15</th>\n",
              "      <th>16</th>\n",
              "      <th>17</th>\n",
              "      <th>18</th>\n",
              "      <th>19</th>\n",
              "      <th>20</th>\n",
              "      <th>21</th>\n",
              "      <th>22</th>\n",
              "      <th>23</th>\n",
              "      <th>24</th>\n",
              "      <th>25</th>\n",
              "      <th>26</th>\n",
              "      <th>27</th>\n",
              "      <th>28</th>\n",
              "      <th>29</th>\n",
              "      <th>30</th>\n",
              "      <th>31</th>\n",
              "      <th>32</th>\n",
              "      <th>33</th>\n",
              "      <th>34</th>\n",
              "      <th>35</th>\n",
              "      <th>36</th>\n",
              "      <th>37</th>\n",
              "      <th>38</th>\n",
              "      <th>39</th>\n",
              "      <th>...</th>\n",
              "      <th>294</th>\n",
              "      <th>295</th>\n",
              "      <th>296</th>\n",
              "      <th>297</th>\n",
              "      <th>298</th>\n",
              "      <th>299</th>\n",
              "      <th>300</th>\n",
              "      <th>301</th>\n",
              "      <th>302</th>\n",
              "      <th>303</th>\n",
              "      <th>304</th>\n",
              "      <th>305</th>\n",
              "      <th>306</th>\n",
              "      <th>307</th>\n",
              "      <th>308</th>\n",
              "      <th>309</th>\n",
              "      <th>310</th>\n",
              "      <th>311</th>\n",
              "      <th>312</th>\n",
              "      <th>313</th>\n",
              "      <th>314</th>\n",
              "      <th>315</th>\n",
              "      <th>316</th>\n",
              "      <th>317</th>\n",
              "      <th>318</th>\n",
              "      <th>319</th>\n",
              "      <th>320</th>\n",
              "      <th>321</th>\n",
              "      <th>322</th>\n",
              "      <th>323</th>\n",
              "      <th>324</th>\n",
              "      <th>325</th>\n",
              "      <th>326</th>\n",
              "      <th>327</th>\n",
              "      <th>328</th>\n",
              "      <th>329</th>\n",
              "      <th>330</th>\n",
              "      <th>331</th>\n",
              "      <th>332</th>\n",
              "      <th>333</th>\n",
              "    </tr>\n",
              "  </thead>\n",
              "  <tbody>\n",
              "    <tr>\n",
              "      <th>0</th>\n",
              "      <td>0.780563</td>\n",
              "      <td>0.395723</td>\n",
              "      <td>0.268596</td>\n",
              "      <td>0.338216</td>\n",
              "      <td>0.456514</td>\n",
              "      <td>0.990061</td>\n",
              "      <td>0.604710</td>\n",
              "      <td>0.199619</td>\n",
              "      <td>0.270278</td>\n",
              "      <td>0.757109</td>\n",
              "      <td>0.070478</td>\n",
              "      <td>0.529840</td>\n",
              "      <td>0.085819</td>\n",
              "      <td>0.781727</td>\n",
              "      <td>0.816644</td>\n",
              "      <td>0.339618</td>\n",
              "      <td>0.139611</td>\n",
              "      <td>0.431784</td>\n",
              "      <td>0.092798</td>\n",
              "      <td>0.823839</td>\n",
              "      <td>0.946341</td>\n",
              "      <td>0.350212</td>\n",
              "      <td>0.614854</td>\n",
              "      <td>0.326454</td>\n",
              "      <td>0.325655</td>\n",
              "      <td>0.892874</td>\n",
              "      <td>0.971269</td>\n",
              "      <td>0.197126</td>\n",
              "      <td>0.807033</td>\n",
              "      <td>0.761167</td>\n",
              "      <td>0.634964</td>\n",
              "      <td>0.872301</td>\n",
              "      <td>0.017156</td>\n",
              "      <td>0.010746</td>\n",
              "      <td>0.873055</td>\n",
              "      <td>0.884592</td>\n",
              "      <td>0.863428</td>\n",
              "      <td>0.380456</td>\n",
              "      <td>0.584307</td>\n",
              "      <td>0.516916</td>\n",
              "      <td>...</td>\n",
              "      <td>0.745499</td>\n",
              "      <td>0.706085</td>\n",
              "      <td>0.998081</td>\n",
              "      <td>0.319657</td>\n",
              "      <td>0.100164</td>\n",
              "      <td>0.454540</td>\n",
              "      <td>0.137812</td>\n",
              "      <td>0.862596</td>\n",
              "      <td>0.871175</td>\n",
              "      <td>0.543436</td>\n",
              "      <td>0.010387</td>\n",
              "      <td>0.583698</td>\n",
              "      <td>0.875304</td>\n",
              "      <td>0.048520</td>\n",
              "      <td>0.053719</td>\n",
              "      <td>0.002637</td>\n",
              "      <td>0.279982</td>\n",
              "      <td>0.844656</td>\n",
              "      <td>0.465623</td>\n",
              "      <td>0.840366</td>\n",
              "      <td>0.336063</td>\n",
              "      <td>0.288777</td>\n",
              "      <td>0.842145</td>\n",
              "      <td>0.274310</td>\n",
              "      <td>0.660664</td>\n",
              "      <td>0.455337</td>\n",
              "      <td>0.709374</td>\n",
              "      <td>0.740701</td>\n",
              "      <td>0.070903</td>\n",
              "      <td>0.634046</td>\n",
              "      <td>0.702559</td>\n",
              "      <td>0.060928</td>\n",
              "      <td>0.078162</td>\n",
              "      <td>0.189419</td>\n",
              "      <td>0.640638</td>\n",
              "      <td>0.463314</td>\n",
              "      <td>0.630390</td>\n",
              "      <td>0.280055</td>\n",
              "      <td>0.016227</td>\n",
              "      <td>0.831791</td>\n",
              "    </tr>\n",
              "    <tr>\n",
              "      <th>1</th>\n",
              "      <td>0.665998</td>\n",
              "      <td>0.766573</td>\n",
              "      <td>0.040377</td>\n",
              "      <td>0.707649</td>\n",
              "      <td>0.525456</td>\n",
              "      <td>0.697335</td>\n",
              "      <td>0.760341</td>\n",
              "      <td>0.943094</td>\n",
              "      <td>0.210176</td>\n",
              "      <td>0.194409</td>\n",
              "      <td>0.020762</td>\n",
              "      <td>0.029140</td>\n",
              "      <td>0.674698</td>\n",
              "      <td>0.959297</td>\n",
              "      <td>0.081521</td>\n",
              "      <td>0.904150</td>\n",
              "      <td>0.508303</td>\n",
              "      <td>0.663648</td>\n",
              "      <td>0.101846</td>\n",
              "      <td>0.300157</td>\n",
              "      <td>0.557322</td>\n",
              "      <td>0.999874</td>\n",
              "      <td>0.502391</td>\n",
              "      <td>0.822798</td>\n",
              "      <td>0.750138</td>\n",
              "      <td>0.945599</td>\n",
              "      <td>0.075433</td>\n",
              "      <td>0.815864</td>\n",
              "      <td>0.840545</td>\n",
              "      <td>0.330088</td>\n",
              "      <td>0.099645</td>\n",
              "      <td>0.690653</td>\n",
              "      <td>0.969147</td>\n",
              "      <td>0.619941</td>\n",
              "      <td>0.420384</td>\n",
              "      <td>0.339927</td>\n",
              "      <td>0.106027</td>\n",
              "      <td>0.762832</td>\n",
              "      <td>0.543903</td>\n",
              "      <td>0.529215</td>\n",
              "      <td>...</td>\n",
              "      <td>0.606438</td>\n",
              "      <td>0.361942</td>\n",
              "      <td>0.413468</td>\n",
              "      <td>0.758301</td>\n",
              "      <td>0.108916</td>\n",
              "      <td>0.034347</td>\n",
              "      <td>0.614396</td>\n",
              "      <td>0.004400</td>\n",
              "      <td>0.383391</td>\n",
              "      <td>0.301587</td>\n",
              "      <td>0.704603</td>\n",
              "      <td>0.430577</td>\n",
              "      <td>0.013144</td>\n",
              "      <td>0.511605</td>\n",
              "      <td>0.349866</td>\n",
              "      <td>0.758920</td>\n",
              "      <td>0.078825</td>\n",
              "      <td>0.074449</td>\n",
              "      <td>0.363865</td>\n",
              "      <td>0.685170</td>\n",
              "      <td>0.523391</td>\n",
              "      <td>0.986274</td>\n",
              "      <td>0.977709</td>\n",
              "      <td>0.506930</td>\n",
              "      <td>0.399882</td>\n",
              "      <td>0.555229</td>\n",
              "      <td>0.990101</td>\n",
              "      <td>0.236677</td>\n",
              "      <td>0.401744</td>\n",
              "      <td>0.876398</td>\n",
              "      <td>0.177060</td>\n",
              "      <td>0.620698</td>\n",
              "      <td>0.074972</td>\n",
              "      <td>0.761112</td>\n",
              "      <td>0.629686</td>\n",
              "      <td>0.230378</td>\n",
              "      <td>0.630176</td>\n",
              "      <td>0.556596</td>\n",
              "      <td>0.733768</td>\n",
              "      <td>0.735859</td>\n",
              "    </tr>\n",
              "    <tr>\n",
              "      <th>2</th>\n",
              "      <td>0.305865</td>\n",
              "      <td>0.992259</td>\n",
              "      <td>0.494291</td>\n",
              "      <td>0.217794</td>\n",
              "      <td>0.790216</td>\n",
              "      <td>0.188028</td>\n",
              "      <td>0.076579</td>\n",
              "      <td>0.353045</td>\n",
              "      <td>0.860863</td>\n",
              "      <td>0.407176</td>\n",
              "      <td>0.431127</td>\n",
              "      <td>0.538668</td>\n",
              "      <td>0.769087</td>\n",
              "      <td>0.431604</td>\n",
              "      <td>0.801395</td>\n",
              "      <td>0.021592</td>\n",
              "      <td>0.364201</td>\n",
              "      <td>0.927911</td>\n",
              "      <td>0.016221</td>\n",
              "      <td>0.656052</td>\n",
              "      <td>0.850572</td>\n",
              "      <td>0.479325</td>\n",
              "      <td>0.651555</td>\n",
              "      <td>0.012913</td>\n",
              "      <td>0.031243</td>\n",
              "      <td>0.375727</td>\n",
              "      <td>0.513693</td>\n",
              "      <td>0.413736</td>\n",
              "      <td>0.964817</td>\n",
              "      <td>0.715432</td>\n",
              "      <td>0.618039</td>\n",
              "      <td>0.353711</td>\n",
              "      <td>0.661147</td>\n",
              "      <td>0.685134</td>\n",
              "      <td>0.686719</td>\n",
              "      <td>0.630832</td>\n",
              "      <td>0.816355</td>\n",
              "      <td>0.372539</td>\n",
              "      <td>0.741806</td>\n",
              "      <td>0.013523</td>\n",
              "      <td>...</td>\n",
              "      <td>0.800429</td>\n",
              "      <td>0.926384</td>\n",
              "      <td>0.869550</td>\n",
              "      <td>0.971705</td>\n",
              "      <td>0.323144</td>\n",
              "      <td>0.121624</td>\n",
              "      <td>0.823961</td>\n",
              "      <td>0.938873</td>\n",
              "      <td>0.748394</td>\n",
              "      <td>0.704359</td>\n",
              "      <td>0.165148</td>\n",
              "      <td>0.310183</td>\n",
              "      <td>0.184739</td>\n",
              "      <td>0.589214</td>\n",
              "      <td>0.516100</td>\n",
              "      <td>0.668719</td>\n",
              "      <td>0.925017</td>\n",
              "      <td>0.945377</td>\n",
              "      <td>0.809166</td>\n",
              "      <td>0.460166</td>\n",
              "      <td>0.442448</td>\n",
              "      <td>0.396428</td>\n",
              "      <td>0.646075</td>\n",
              "      <td>0.471930</td>\n",
              "      <td>0.246668</td>\n",
              "      <td>0.244322</td>\n",
              "      <td>0.879521</td>\n",
              "      <td>0.323679</td>\n",
              "      <td>0.291866</td>\n",
              "      <td>0.729514</td>\n",
              "      <td>0.228305</td>\n",
              "      <td>0.461254</td>\n",
              "      <td>0.995380</td>\n",
              "      <td>0.252371</td>\n",
              "      <td>0.083772</td>\n",
              "      <td>0.561559</td>\n",
              "      <td>0.764641</td>\n",
              "      <td>0.733664</td>\n",
              "      <td>0.922315</td>\n",
              "      <td>0.010889</td>\n",
              "    </tr>\n",
              "    <tr>\n",
              "      <th>3</th>\n",
              "      <td>0.760740</td>\n",
              "      <td>0.628542</td>\n",
              "      <td>0.967130</td>\n",
              "      <td>0.158542</td>\n",
              "      <td>0.601927</td>\n",
              "      <td>0.335889</td>\n",
              "      <td>0.744219</td>\n",
              "      <td>0.608277</td>\n",
              "      <td>0.919926</td>\n",
              "      <td>0.662925</td>\n",
              "      <td>0.906775</td>\n",
              "      <td>0.932828</td>\n",
              "      <td>0.674407</td>\n",
              "      <td>0.119132</td>\n",
              "      <td>0.258903</td>\n",
              "      <td>0.205303</td>\n",
              "      <td>0.163963</td>\n",
              "      <td>0.210338</td>\n",
              "      <td>0.831695</td>\n",
              "      <td>0.180864</td>\n",
              "      <td>0.803828</td>\n",
              "      <td>0.379475</td>\n",
              "      <td>0.290724</td>\n",
              "      <td>0.428254</td>\n",
              "      <td>0.700491</td>\n",
              "      <td>0.621764</td>\n",
              "      <td>0.612929</td>\n",
              "      <td>0.164924</td>\n",
              "      <td>0.008591</td>\n",
              "      <td>0.070639</td>\n",
              "      <td>0.002600</td>\n",
              "      <td>0.595412</td>\n",
              "      <td>0.890630</td>\n",
              "      <td>0.900993</td>\n",
              "      <td>0.974860</td>\n",
              "      <td>0.648310</td>\n",
              "      <td>0.248582</td>\n",
              "      <td>0.712499</td>\n",
              "      <td>0.197014</td>\n",
              "      <td>0.150999</td>\n",
              "      <td>...</td>\n",
              "      <td>0.530133</td>\n",
              "      <td>0.254907</td>\n",
              "      <td>0.435804</td>\n",
              "      <td>0.202689</td>\n",
              "      <td>0.064277</td>\n",
              "      <td>0.658265</td>\n",
              "      <td>0.680624</td>\n",
              "      <td>0.099108</td>\n",
              "      <td>0.521180</td>\n",
              "      <td>0.372080</td>\n",
              "      <td>0.194253</td>\n",
              "      <td>0.641881</td>\n",
              "      <td>0.973599</td>\n",
              "      <td>0.250138</td>\n",
              "      <td>0.872401</td>\n",
              "      <td>0.746728</td>\n",
              "      <td>0.659476</td>\n",
              "      <td>0.787007</td>\n",
              "      <td>0.644776</td>\n",
              "      <td>0.355583</td>\n",
              "      <td>0.248847</td>\n",
              "      <td>0.920353</td>\n",
              "      <td>0.934249</td>\n",
              "      <td>0.389721</td>\n",
              "      <td>0.533194</td>\n",
              "      <td>0.719121</td>\n",
              "      <td>0.296479</td>\n",
              "      <td>0.075163</td>\n",
              "      <td>0.728469</td>\n",
              "      <td>0.566793</td>\n",
              "      <td>0.288975</td>\n",
              "      <td>0.859391</td>\n",
              "      <td>0.687150</td>\n",
              "      <td>0.859323</td>\n",
              "      <td>0.084952</td>\n",
              "      <td>0.699623</td>\n",
              "      <td>0.610893</td>\n",
              "      <td>0.615917</td>\n",
              "      <td>0.918100</td>\n",
              "      <td>0.768371</td>\n",
              "    </tr>\n",
              "    <tr>\n",
              "      <th>4</th>\n",
              "      <td>0.473353</td>\n",
              "      <td>0.311650</td>\n",
              "      <td>0.193529</td>\n",
              "      <td>0.873896</td>\n",
              "      <td>0.844689</td>\n",
              "      <td>0.733429</td>\n",
              "      <td>0.685011</td>\n",
              "      <td>0.681442</td>\n",
              "      <td>0.691280</td>\n",
              "      <td>0.738101</td>\n",
              "      <td>0.664769</td>\n",
              "      <td>0.020398</td>\n",
              "      <td>0.575580</td>\n",
              "      <td>0.217499</td>\n",
              "      <td>0.415645</td>\n",
              "      <td>0.217665</td>\n",
              "      <td>0.678634</td>\n",
              "      <td>0.964399</td>\n",
              "      <td>0.060413</td>\n",
              "      <td>0.144689</td>\n",
              "      <td>0.328335</td>\n",
              "      <td>0.738359</td>\n",
              "      <td>0.843313</td>\n",
              "      <td>0.817200</td>\n",
              "      <td>0.621126</td>\n",
              "      <td>0.976112</td>\n",
              "      <td>0.506573</td>\n",
              "      <td>0.813475</td>\n",
              "      <td>0.749365</td>\n",
              "      <td>0.858458</td>\n",
              "      <td>0.271645</td>\n",
              "      <td>0.763042</td>\n",
              "      <td>0.353167</td>\n",
              "      <td>0.282365</td>\n",
              "      <td>0.085098</td>\n",
              "      <td>0.774849</td>\n",
              "      <td>0.085509</td>\n",
              "      <td>0.335671</td>\n",
              "      <td>0.026641</td>\n",
              "      <td>0.227564</td>\n",
              "      <td>...</td>\n",
              "      <td>0.198091</td>\n",
              "      <td>0.084915</td>\n",
              "      <td>0.971284</td>\n",
              "      <td>0.646546</td>\n",
              "      <td>0.364671</td>\n",
              "      <td>0.716958</td>\n",
              "      <td>0.524409</td>\n",
              "      <td>0.887457</td>\n",
              "      <td>0.538067</td>\n",
              "      <td>0.061340</td>\n",
              "      <td>0.471953</td>\n",
              "      <td>0.134045</td>\n",
              "      <td>0.487560</td>\n",
              "      <td>0.083328</td>\n",
              "      <td>0.482049</td>\n",
              "      <td>0.563856</td>\n",
              "      <td>0.317554</td>\n",
              "      <td>0.841959</td>\n",
              "      <td>0.505731</td>\n",
              "      <td>0.719392</td>\n",
              "      <td>0.950866</td>\n",
              "      <td>0.109231</td>\n",
              "      <td>0.009353</td>\n",
              "      <td>0.708411</td>\n",
              "      <td>0.449754</td>\n",
              "      <td>0.129272</td>\n",
              "      <td>0.393743</td>\n",
              "      <td>0.126235</td>\n",
              "      <td>0.013420</td>\n",
              "      <td>0.633161</td>\n",
              "      <td>0.750678</td>\n",
              "      <td>0.669687</td>\n",
              "      <td>0.801369</td>\n",
              "      <td>0.036863</td>\n",
              "      <td>0.573649</td>\n",
              "      <td>0.222213</td>\n",
              "      <td>0.812103</td>\n",
              "      <td>0.530238</td>\n",
              "      <td>0.793854</td>\n",
              "      <td>0.953172</td>\n",
              "    </tr>\n",
              "  </tbody>\n",
              "</table>\n",
              "<p>5 rows × 334 columns</p>\n",
              "</div>"
            ],
            "text/plain": [
              "        0         1         2    ...       331       332       333\n",
              "0  0.780563  0.395723  0.268596  ...  0.280055  0.016227  0.831791\n",
              "1  0.665998  0.766573  0.040377  ...  0.556596  0.733768  0.735859\n",
              "2  0.305865  0.992259  0.494291  ...  0.733664  0.922315  0.010889\n",
              "3  0.760740  0.628542  0.967130  ...  0.615917  0.918100  0.768371\n",
              "4  0.473353  0.311650  0.193529  ...  0.530238  0.793854  0.953172\n",
              "\n",
              "[5 rows x 334 columns]"
            ]
          },
          "metadata": {
            "tags": []
          },
          "execution_count": 26
        }
      ]
    },
    {
      "cell_type": "code",
      "metadata": {
        "id": "4ayvm2Rr0UV4",
        "colab_type": "code",
        "colab": {
          "base_uri": "https://localhost:8080/",
          "height": 204
        },
        "outputId": "58480fe2-feda-4585-d947-3371853963d0"
      },
      "source": [
        "newdf.head()"
      ],
      "execution_count": 27,
      "outputs": [
        {
          "output_type": "execute_result",
          "data": {
            "text/html": [
              "<div>\n",
              "<style scoped>\n",
              "    .dataframe tbody tr th:only-of-type {\n",
              "        vertical-align: middle;\n",
              "    }\n",
              "\n",
              "    .dataframe tbody tr th {\n",
              "        vertical-align: top;\n",
              "    }\n",
              "\n",
              "    .dataframe thead th {\n",
              "        text-align: right;\n",
              "    }\n",
              "</style>\n",
              "<table border=\"1\" class=\"dataframe\">\n",
              "  <thead>\n",
              "    <tr style=\"text-align: right;\">\n",
              "      <th></th>\n",
              "      <th>0</th>\n",
              "      <th>1</th>\n",
              "      <th>2</th>\n",
              "      <th>3</th>\n",
              "      <th>4</th>\n",
              "    </tr>\n",
              "  </thead>\n",
              "  <tbody>\n",
              "    <tr>\n",
              "      <th>0</th>\n",
              "      <td>0.780563</td>\n",
              "      <td>0.665998</td>\n",
              "      <td>0.305865</td>\n",
              "      <td>0.760740</td>\n",
              "      <td>0.473353</td>\n",
              "    </tr>\n",
              "    <tr>\n",
              "      <th>1</th>\n",
              "      <td>0.395723</td>\n",
              "      <td>0.766573</td>\n",
              "      <td>0.992259</td>\n",
              "      <td>0.628542</td>\n",
              "      <td>0.311650</td>\n",
              "    </tr>\n",
              "    <tr>\n",
              "      <th>2</th>\n",
              "      <td>0.268596</td>\n",
              "      <td>0.040377</td>\n",
              "      <td>0.494291</td>\n",
              "      <td>0.967130</td>\n",
              "      <td>0.193529</td>\n",
              "    </tr>\n",
              "    <tr>\n",
              "      <th>3</th>\n",
              "      <td>0.338216</td>\n",
              "      <td>0.707649</td>\n",
              "      <td>0.217794</td>\n",
              "      <td>0.158542</td>\n",
              "      <td>0.873896</td>\n",
              "    </tr>\n",
              "    <tr>\n",
              "      <th>4</th>\n",
              "      <td>0.456514</td>\n",
              "      <td>0.525456</td>\n",
              "      <td>0.790216</td>\n",
              "      <td>0.601927</td>\n",
              "      <td>0.844689</td>\n",
              "    </tr>\n",
              "  </tbody>\n",
              "</table>\n",
              "</div>"
            ],
            "text/plain": [
              "          0         1         2         3         4\n",
              "0  0.780563  0.665998  0.305865  0.760740  0.473353\n",
              "1  0.395723  0.766573  0.992259  0.628542  0.311650\n",
              "2  0.268596  0.040377  0.494291  0.967130  0.193529\n",
              "3  0.338216  0.707649  0.217794  0.158542  0.873896\n",
              "4  0.456514  0.525456  0.790216  0.601927  0.844689"
            ]
          },
          "metadata": {
            "tags": []
          },
          "execution_count": 27
        }
      ]
    },
    {
      "cell_type": "code",
      "metadata": {
        "id": "UHvozZWs1LG6",
        "colab_type": "code",
        "colab": {
          "base_uri": "https://localhost:8080/",
          "height": 419
        },
        "outputId": "d869486d-13b0-4aff-efd5-c5826ea211c6"
      },
      "source": [
        "newdf.sort_index(axis=0, ascending=False)  # Sorting dataFrame in Descending order"
      ],
      "execution_count": 28,
      "outputs": [
        {
          "output_type": "execute_result",
          "data": {
            "text/html": [
              "<div>\n",
              "<style scoped>\n",
              "    .dataframe tbody tr th:only-of-type {\n",
              "        vertical-align: middle;\n",
              "    }\n",
              "\n",
              "    .dataframe tbody tr th {\n",
              "        vertical-align: top;\n",
              "    }\n",
              "\n",
              "    .dataframe thead th {\n",
              "        text-align: right;\n",
              "    }\n",
              "</style>\n",
              "<table border=\"1\" class=\"dataframe\">\n",
              "  <thead>\n",
              "    <tr style=\"text-align: right;\">\n",
              "      <th></th>\n",
              "      <th>0</th>\n",
              "      <th>1</th>\n",
              "      <th>2</th>\n",
              "      <th>3</th>\n",
              "      <th>4</th>\n",
              "    </tr>\n",
              "  </thead>\n",
              "  <tbody>\n",
              "    <tr>\n",
              "      <th>333</th>\n",
              "      <td>0.831791</td>\n",
              "      <td>0.735859</td>\n",
              "      <td>0.010889</td>\n",
              "      <td>0.768371</td>\n",
              "      <td>0.953172</td>\n",
              "    </tr>\n",
              "    <tr>\n",
              "      <th>332</th>\n",
              "      <td>0.016227</td>\n",
              "      <td>0.733768</td>\n",
              "      <td>0.922315</td>\n",
              "      <td>0.918100</td>\n",
              "      <td>0.793854</td>\n",
              "    </tr>\n",
              "    <tr>\n",
              "      <th>331</th>\n",
              "      <td>0.280055</td>\n",
              "      <td>0.556596</td>\n",
              "      <td>0.733664</td>\n",
              "      <td>0.615917</td>\n",
              "      <td>0.530238</td>\n",
              "    </tr>\n",
              "    <tr>\n",
              "      <th>330</th>\n",
              "      <td>0.630390</td>\n",
              "      <td>0.630176</td>\n",
              "      <td>0.764641</td>\n",
              "      <td>0.610893</td>\n",
              "      <td>0.812103</td>\n",
              "    </tr>\n",
              "    <tr>\n",
              "      <th>329</th>\n",
              "      <td>0.463314</td>\n",
              "      <td>0.230378</td>\n",
              "      <td>0.561559</td>\n",
              "      <td>0.699623</td>\n",
              "      <td>0.222213</td>\n",
              "    </tr>\n",
              "    <tr>\n",
              "      <th>...</th>\n",
              "      <td>...</td>\n",
              "      <td>...</td>\n",
              "      <td>...</td>\n",
              "      <td>...</td>\n",
              "      <td>...</td>\n",
              "    </tr>\n",
              "    <tr>\n",
              "      <th>4</th>\n",
              "      <td>0.456514</td>\n",
              "      <td>0.525456</td>\n",
              "      <td>0.790216</td>\n",
              "      <td>0.601927</td>\n",
              "      <td>0.844689</td>\n",
              "    </tr>\n",
              "    <tr>\n",
              "      <th>3</th>\n",
              "      <td>0.338216</td>\n",
              "      <td>0.707649</td>\n",
              "      <td>0.217794</td>\n",
              "      <td>0.158542</td>\n",
              "      <td>0.873896</td>\n",
              "    </tr>\n",
              "    <tr>\n",
              "      <th>2</th>\n",
              "      <td>0.268596</td>\n",
              "      <td>0.040377</td>\n",
              "      <td>0.494291</td>\n",
              "      <td>0.967130</td>\n",
              "      <td>0.193529</td>\n",
              "    </tr>\n",
              "    <tr>\n",
              "      <th>1</th>\n",
              "      <td>0.395723</td>\n",
              "      <td>0.766573</td>\n",
              "      <td>0.992259</td>\n",
              "      <td>0.628542</td>\n",
              "      <td>0.311650</td>\n",
              "    </tr>\n",
              "    <tr>\n",
              "      <th>0</th>\n",
              "      <td>0.780563</td>\n",
              "      <td>0.665998</td>\n",
              "      <td>0.305865</td>\n",
              "      <td>0.760740</td>\n",
              "      <td>0.473353</td>\n",
              "    </tr>\n",
              "  </tbody>\n",
              "</table>\n",
              "<p>334 rows × 5 columns</p>\n",
              "</div>"
            ],
            "text/plain": [
              "            0         1         2         3         4\n",
              "333  0.831791  0.735859  0.010889  0.768371  0.953172\n",
              "332  0.016227  0.733768  0.922315  0.918100  0.793854\n",
              "331  0.280055  0.556596  0.733664  0.615917  0.530238\n",
              "330  0.630390  0.630176  0.764641  0.610893  0.812103\n",
              "329  0.463314  0.230378  0.561559  0.699623  0.222213\n",
              "..        ...       ...       ...       ...       ...\n",
              "4    0.456514  0.525456  0.790216  0.601927  0.844689\n",
              "3    0.338216  0.707649  0.217794  0.158542  0.873896\n",
              "2    0.268596  0.040377  0.494291  0.967130  0.193529\n",
              "1    0.395723  0.766573  0.992259  0.628542  0.311650\n",
              "0    0.780563  0.665998  0.305865  0.760740  0.473353\n",
              "\n",
              "[334 rows x 5 columns]"
            ]
          },
          "metadata": {
            "tags": []
          },
          "execution_count": 28
        }
      ]
    },
    {
      "cell_type": "code",
      "metadata": {
        "id": "RzrVqT3j1LTy",
        "colab_type": "code",
        "colab": {
          "base_uri": "https://localhost:8080/",
          "height": 204
        },
        "outputId": "1d4c35a5-9bdb-4784-e367-39d984303244"
      },
      "source": [
        "newdf.head()"
      ],
      "execution_count": 29,
      "outputs": [
        {
          "output_type": "execute_result",
          "data": {
            "text/html": [
              "<div>\n",
              "<style scoped>\n",
              "    .dataframe tbody tr th:only-of-type {\n",
              "        vertical-align: middle;\n",
              "    }\n",
              "\n",
              "    .dataframe tbody tr th {\n",
              "        vertical-align: top;\n",
              "    }\n",
              "\n",
              "    .dataframe thead th {\n",
              "        text-align: right;\n",
              "    }\n",
              "</style>\n",
              "<table border=\"1\" class=\"dataframe\">\n",
              "  <thead>\n",
              "    <tr style=\"text-align: right;\">\n",
              "      <th></th>\n",
              "      <th>0</th>\n",
              "      <th>1</th>\n",
              "      <th>2</th>\n",
              "      <th>3</th>\n",
              "      <th>4</th>\n",
              "    </tr>\n",
              "  </thead>\n",
              "  <tbody>\n",
              "    <tr>\n",
              "      <th>0</th>\n",
              "      <td>0.780563</td>\n",
              "      <td>0.665998</td>\n",
              "      <td>0.305865</td>\n",
              "      <td>0.760740</td>\n",
              "      <td>0.473353</td>\n",
              "    </tr>\n",
              "    <tr>\n",
              "      <th>1</th>\n",
              "      <td>0.395723</td>\n",
              "      <td>0.766573</td>\n",
              "      <td>0.992259</td>\n",
              "      <td>0.628542</td>\n",
              "      <td>0.311650</td>\n",
              "    </tr>\n",
              "    <tr>\n",
              "      <th>2</th>\n",
              "      <td>0.268596</td>\n",
              "      <td>0.040377</td>\n",
              "      <td>0.494291</td>\n",
              "      <td>0.967130</td>\n",
              "      <td>0.193529</td>\n",
              "    </tr>\n",
              "    <tr>\n",
              "      <th>3</th>\n",
              "      <td>0.338216</td>\n",
              "      <td>0.707649</td>\n",
              "      <td>0.217794</td>\n",
              "      <td>0.158542</td>\n",
              "      <td>0.873896</td>\n",
              "    </tr>\n",
              "    <tr>\n",
              "      <th>4</th>\n",
              "      <td>0.456514</td>\n",
              "      <td>0.525456</td>\n",
              "      <td>0.790216</td>\n",
              "      <td>0.601927</td>\n",
              "      <td>0.844689</td>\n",
              "    </tr>\n",
              "  </tbody>\n",
              "</table>\n",
              "</div>"
            ],
            "text/plain": [
              "          0         1         2         3         4\n",
              "0  0.780563  0.665998  0.305865  0.760740  0.473353\n",
              "1  0.395723  0.766573  0.992259  0.628542  0.311650\n",
              "2  0.268596  0.040377  0.494291  0.967130  0.193529\n",
              "3  0.338216  0.707649  0.217794  0.158542  0.873896\n",
              "4  0.456514  0.525456  0.790216  0.601927  0.844689"
            ]
          },
          "metadata": {
            "tags": []
          },
          "execution_count": 29
        }
      ]
    },
    {
      "cell_type": "code",
      "metadata": {
        "id": "rb4O3Bnl1LR7",
        "colab_type": "code",
        "colab": {}
      },
      "source": [
        "newdf2 = newdf # It will point to the newdf(It is the view only.)"
      ],
      "execution_count": 30,
      "outputs": []
    },
    {
      "cell_type": "code",
      "metadata": {
        "id": "ud1S7-7x1zb-",
        "colab_type": "code",
        "colab": {}
      },
      "source": [
        "newdf2 = newdf # It will copy all the data. "
      ],
      "execution_count": 31,
      "outputs": []
    },
    {
      "cell_type": "code",
      "metadata": {
        "id": "G01Loy8D1zpe",
        "colab_type": "code",
        "colab": {}
      },
      "source": [
        "newdf.loc[0,0] = 98 # Valid way to edit the data."
      ],
      "execution_count": 32,
      "outputs": []
    },
    {
      "cell_type": "code",
      "metadata": {
        "id": "EuLyeNYH2hW3",
        "colab_type": "code",
        "colab": {
          "base_uri": "https://localhost:8080/",
          "height": 204
        },
        "outputId": "8482bdce-c3af-4cd7-bfe1-a89c86a27f1e"
      },
      "source": [
        "newdf.head()"
      ],
      "execution_count": 33,
      "outputs": [
        {
          "output_type": "execute_result",
          "data": {
            "text/html": [
              "<div>\n",
              "<style scoped>\n",
              "    .dataframe tbody tr th:only-of-type {\n",
              "        vertical-align: middle;\n",
              "    }\n",
              "\n",
              "    .dataframe tbody tr th {\n",
              "        vertical-align: top;\n",
              "    }\n",
              "\n",
              "    .dataframe thead th {\n",
              "        text-align: right;\n",
              "    }\n",
              "</style>\n",
              "<table border=\"1\" class=\"dataframe\">\n",
              "  <thead>\n",
              "    <tr style=\"text-align: right;\">\n",
              "      <th></th>\n",
              "      <th>0</th>\n",
              "      <th>1</th>\n",
              "      <th>2</th>\n",
              "      <th>3</th>\n",
              "      <th>4</th>\n",
              "    </tr>\n",
              "  </thead>\n",
              "  <tbody>\n",
              "    <tr>\n",
              "      <th>0</th>\n",
              "      <td>98.000000</td>\n",
              "      <td>0.665998</td>\n",
              "      <td>0.305865</td>\n",
              "      <td>0.760740</td>\n",
              "      <td>0.473353</td>\n",
              "    </tr>\n",
              "    <tr>\n",
              "      <th>1</th>\n",
              "      <td>0.395723</td>\n",
              "      <td>0.766573</td>\n",
              "      <td>0.992259</td>\n",
              "      <td>0.628542</td>\n",
              "      <td>0.311650</td>\n",
              "    </tr>\n",
              "    <tr>\n",
              "      <th>2</th>\n",
              "      <td>0.268596</td>\n",
              "      <td>0.040377</td>\n",
              "      <td>0.494291</td>\n",
              "      <td>0.967130</td>\n",
              "      <td>0.193529</td>\n",
              "    </tr>\n",
              "    <tr>\n",
              "      <th>3</th>\n",
              "      <td>0.338216</td>\n",
              "      <td>0.707649</td>\n",
              "      <td>0.217794</td>\n",
              "      <td>0.158542</td>\n",
              "      <td>0.873896</td>\n",
              "    </tr>\n",
              "    <tr>\n",
              "      <th>4</th>\n",
              "      <td>0.456514</td>\n",
              "      <td>0.525456</td>\n",
              "      <td>0.790216</td>\n",
              "      <td>0.601927</td>\n",
              "      <td>0.844689</td>\n",
              "    </tr>\n",
              "  </tbody>\n",
              "</table>\n",
              "</div>"
            ],
            "text/plain": [
              "           0         1         2         3         4\n",
              "0  98.000000  0.665998  0.305865  0.760740  0.473353\n",
              "1   0.395723  0.766573  0.992259  0.628542  0.311650\n",
              "2   0.268596  0.040377  0.494291  0.967130  0.193529\n",
              "3   0.338216  0.707649  0.217794  0.158542  0.873896\n",
              "4   0.456514  0.525456  0.790216  0.601927  0.844689"
            ]
          },
          "metadata": {
            "tags": []
          },
          "execution_count": 33
        }
      ]
    },
    {
      "cell_type": "code",
      "metadata": {
        "id": "PRWUK0ta2hTj",
        "colab_type": "code",
        "colab": {
          "base_uri": "https://localhost:8080/",
          "height": 419
        },
        "outputId": "c7faaa5c-cd94-4a27-9a81-ad65f6aab678"
      },
      "source": [
        "newdf.drop(0,axis=0)"
      ],
      "execution_count": 34,
      "outputs": [
        {
          "output_type": "execute_result",
          "data": {
            "text/html": [
              "<div>\n",
              "<style scoped>\n",
              "    .dataframe tbody tr th:only-of-type {\n",
              "        vertical-align: middle;\n",
              "    }\n",
              "\n",
              "    .dataframe tbody tr th {\n",
              "        vertical-align: top;\n",
              "    }\n",
              "\n",
              "    .dataframe thead th {\n",
              "        text-align: right;\n",
              "    }\n",
              "</style>\n",
              "<table border=\"1\" class=\"dataframe\">\n",
              "  <thead>\n",
              "    <tr style=\"text-align: right;\">\n",
              "      <th></th>\n",
              "      <th>0</th>\n",
              "      <th>1</th>\n",
              "      <th>2</th>\n",
              "      <th>3</th>\n",
              "      <th>4</th>\n",
              "    </tr>\n",
              "  </thead>\n",
              "  <tbody>\n",
              "    <tr>\n",
              "      <th>1</th>\n",
              "      <td>0.395723</td>\n",
              "      <td>0.766573</td>\n",
              "      <td>0.992259</td>\n",
              "      <td>0.628542</td>\n",
              "      <td>0.311650</td>\n",
              "    </tr>\n",
              "    <tr>\n",
              "      <th>2</th>\n",
              "      <td>0.268596</td>\n",
              "      <td>0.040377</td>\n",
              "      <td>0.494291</td>\n",
              "      <td>0.967130</td>\n",
              "      <td>0.193529</td>\n",
              "    </tr>\n",
              "    <tr>\n",
              "      <th>3</th>\n",
              "      <td>0.338216</td>\n",
              "      <td>0.707649</td>\n",
              "      <td>0.217794</td>\n",
              "      <td>0.158542</td>\n",
              "      <td>0.873896</td>\n",
              "    </tr>\n",
              "    <tr>\n",
              "      <th>4</th>\n",
              "      <td>0.456514</td>\n",
              "      <td>0.525456</td>\n",
              "      <td>0.790216</td>\n",
              "      <td>0.601927</td>\n",
              "      <td>0.844689</td>\n",
              "    </tr>\n",
              "    <tr>\n",
              "      <th>5</th>\n",
              "      <td>0.990061</td>\n",
              "      <td>0.697335</td>\n",
              "      <td>0.188028</td>\n",
              "      <td>0.335889</td>\n",
              "      <td>0.733429</td>\n",
              "    </tr>\n",
              "    <tr>\n",
              "      <th>...</th>\n",
              "      <td>...</td>\n",
              "      <td>...</td>\n",
              "      <td>...</td>\n",
              "      <td>...</td>\n",
              "      <td>...</td>\n",
              "    </tr>\n",
              "    <tr>\n",
              "      <th>329</th>\n",
              "      <td>0.463314</td>\n",
              "      <td>0.230378</td>\n",
              "      <td>0.561559</td>\n",
              "      <td>0.699623</td>\n",
              "      <td>0.222213</td>\n",
              "    </tr>\n",
              "    <tr>\n",
              "      <th>330</th>\n",
              "      <td>0.630390</td>\n",
              "      <td>0.630176</td>\n",
              "      <td>0.764641</td>\n",
              "      <td>0.610893</td>\n",
              "      <td>0.812103</td>\n",
              "    </tr>\n",
              "    <tr>\n",
              "      <th>331</th>\n",
              "      <td>0.280055</td>\n",
              "      <td>0.556596</td>\n",
              "      <td>0.733664</td>\n",
              "      <td>0.615917</td>\n",
              "      <td>0.530238</td>\n",
              "    </tr>\n",
              "    <tr>\n",
              "      <th>332</th>\n",
              "      <td>0.016227</td>\n",
              "      <td>0.733768</td>\n",
              "      <td>0.922315</td>\n",
              "      <td>0.918100</td>\n",
              "      <td>0.793854</td>\n",
              "    </tr>\n",
              "    <tr>\n",
              "      <th>333</th>\n",
              "      <td>0.831791</td>\n",
              "      <td>0.735859</td>\n",
              "      <td>0.010889</td>\n",
              "      <td>0.768371</td>\n",
              "      <td>0.953172</td>\n",
              "    </tr>\n",
              "  </tbody>\n",
              "</table>\n",
              "<p>333 rows × 5 columns</p>\n",
              "</div>"
            ],
            "text/plain": [
              "            0         1         2         3         4\n",
              "1    0.395723  0.766573  0.992259  0.628542  0.311650\n",
              "2    0.268596  0.040377  0.494291  0.967130  0.193529\n",
              "3    0.338216  0.707649  0.217794  0.158542  0.873896\n",
              "4    0.456514  0.525456  0.790216  0.601927  0.844689\n",
              "5    0.990061  0.697335  0.188028  0.335889  0.733429\n",
              "..        ...       ...       ...       ...       ...\n",
              "329  0.463314  0.230378  0.561559  0.699623  0.222213\n",
              "330  0.630390  0.630176  0.764641  0.610893  0.812103\n",
              "331  0.280055  0.556596  0.733664  0.615917  0.530238\n",
              "332  0.016227  0.733768  0.922315  0.918100  0.793854\n",
              "333  0.831791  0.735859  0.010889  0.768371  0.953172\n",
              "\n",
              "[333 rows x 5 columns]"
            ]
          },
          "metadata": {
            "tags": []
          },
          "execution_count": 34
        }
      ]
    },
    {
      "cell_type": "code",
      "metadata": {
        "id": "zUegk3OJ2hSR",
        "colab_type": "code",
        "colab": {
          "base_uri": "https://localhost:8080/",
          "height": 111
        },
        "outputId": "d8dec356-3ced-4ea7-d0d7-39f9ee685414"
      },
      "source": [
        " newdf.loc[[1,2],[0,1]]      "
      ],
      "execution_count": 35,
      "outputs": [
        {
          "output_type": "execute_result",
          "data": {
            "text/html": [
              "<div>\n",
              "<style scoped>\n",
              "    .dataframe tbody tr th:only-of-type {\n",
              "        vertical-align: middle;\n",
              "    }\n",
              "\n",
              "    .dataframe tbody tr th {\n",
              "        vertical-align: top;\n",
              "    }\n",
              "\n",
              "    .dataframe thead th {\n",
              "        text-align: right;\n",
              "    }\n",
              "</style>\n",
              "<table border=\"1\" class=\"dataframe\">\n",
              "  <thead>\n",
              "    <tr style=\"text-align: right;\">\n",
              "      <th></th>\n",
              "      <th>0</th>\n",
              "      <th>1</th>\n",
              "    </tr>\n",
              "  </thead>\n",
              "  <tbody>\n",
              "    <tr>\n",
              "      <th>1</th>\n",
              "      <td>0.395723</td>\n",
              "      <td>0.766573</td>\n",
              "    </tr>\n",
              "    <tr>\n",
              "      <th>2</th>\n",
              "      <td>0.268596</td>\n",
              "      <td>0.040377</td>\n",
              "    </tr>\n",
              "  </tbody>\n",
              "</table>\n",
              "</div>"
            ],
            "text/plain": [
              "          0         1\n",
              "1  0.395723  0.766573\n",
              "2  0.268596  0.040377"
            ]
          },
          "metadata": {
            "tags": []
          },
          "execution_count": 35
        }
      ]
    },
    {
      "cell_type": "code",
      "metadata": {
        "id": "E5anSvTeqGIk",
        "colab_type": "code",
        "colab": {
          "base_uri": "https://localhost:8080/",
          "height": 419
        },
        "outputId": "517207d9-eb5e-465a-f14f-a98a12015899"
      },
      "source": [
        "newdf.loc[(newdf[0]<0.3)]     # It will query all the values lesser than 0.3 in column 1"
      ],
      "execution_count": 36,
      "outputs": [
        {
          "output_type": "execute_result",
          "data": {
            "text/html": [
              "<div>\n",
              "<style scoped>\n",
              "    .dataframe tbody tr th:only-of-type {\n",
              "        vertical-align: middle;\n",
              "    }\n",
              "\n",
              "    .dataframe tbody tr th {\n",
              "        vertical-align: top;\n",
              "    }\n",
              "\n",
              "    .dataframe thead th {\n",
              "        text-align: right;\n",
              "    }\n",
              "</style>\n",
              "<table border=\"1\" class=\"dataframe\">\n",
              "  <thead>\n",
              "    <tr style=\"text-align: right;\">\n",
              "      <th></th>\n",
              "      <th>0</th>\n",
              "      <th>1</th>\n",
              "      <th>2</th>\n",
              "      <th>3</th>\n",
              "      <th>4</th>\n",
              "    </tr>\n",
              "  </thead>\n",
              "  <tbody>\n",
              "    <tr>\n",
              "      <th>2</th>\n",
              "      <td>0.268596</td>\n",
              "      <td>0.040377</td>\n",
              "      <td>0.494291</td>\n",
              "      <td>0.967130</td>\n",
              "      <td>0.193529</td>\n",
              "    </tr>\n",
              "    <tr>\n",
              "      <th>7</th>\n",
              "      <td>0.199619</td>\n",
              "      <td>0.943094</td>\n",
              "      <td>0.353045</td>\n",
              "      <td>0.608277</td>\n",
              "      <td>0.681442</td>\n",
              "    </tr>\n",
              "    <tr>\n",
              "      <th>8</th>\n",
              "      <td>0.270278</td>\n",
              "      <td>0.210176</td>\n",
              "      <td>0.860863</td>\n",
              "      <td>0.919926</td>\n",
              "      <td>0.691280</td>\n",
              "    </tr>\n",
              "    <tr>\n",
              "      <th>10</th>\n",
              "      <td>0.070478</td>\n",
              "      <td>0.020762</td>\n",
              "      <td>0.431127</td>\n",
              "      <td>0.906775</td>\n",
              "      <td>0.664769</td>\n",
              "    </tr>\n",
              "    <tr>\n",
              "      <th>12</th>\n",
              "      <td>0.085819</td>\n",
              "      <td>0.674698</td>\n",
              "      <td>0.769087</td>\n",
              "      <td>0.674407</td>\n",
              "      <td>0.575580</td>\n",
              "    </tr>\n",
              "    <tr>\n",
              "      <th>...</th>\n",
              "      <td>...</td>\n",
              "      <td>...</td>\n",
              "      <td>...</td>\n",
              "      <td>...</td>\n",
              "      <td>...</td>\n",
              "    </tr>\n",
              "    <tr>\n",
              "      <th>325</th>\n",
              "      <td>0.060928</td>\n",
              "      <td>0.620698</td>\n",
              "      <td>0.461254</td>\n",
              "      <td>0.859391</td>\n",
              "      <td>0.669687</td>\n",
              "    </tr>\n",
              "    <tr>\n",
              "      <th>326</th>\n",
              "      <td>0.078162</td>\n",
              "      <td>0.074972</td>\n",
              "      <td>0.995380</td>\n",
              "      <td>0.687150</td>\n",
              "      <td>0.801369</td>\n",
              "    </tr>\n",
              "    <tr>\n",
              "      <th>327</th>\n",
              "      <td>0.189419</td>\n",
              "      <td>0.761112</td>\n",
              "      <td>0.252371</td>\n",
              "      <td>0.859323</td>\n",
              "      <td>0.036863</td>\n",
              "    </tr>\n",
              "    <tr>\n",
              "      <th>331</th>\n",
              "      <td>0.280055</td>\n",
              "      <td>0.556596</td>\n",
              "      <td>0.733664</td>\n",
              "      <td>0.615917</td>\n",
              "      <td>0.530238</td>\n",
              "    </tr>\n",
              "    <tr>\n",
              "      <th>332</th>\n",
              "      <td>0.016227</td>\n",
              "      <td>0.733768</td>\n",
              "      <td>0.922315</td>\n",
              "      <td>0.918100</td>\n",
              "      <td>0.793854</td>\n",
              "    </tr>\n",
              "  </tbody>\n",
              "</table>\n",
              "<p>101 rows × 5 columns</p>\n",
              "</div>"
            ],
            "text/plain": [
              "            0         1         2         3         4\n",
              "2    0.268596  0.040377  0.494291  0.967130  0.193529\n",
              "7    0.199619  0.943094  0.353045  0.608277  0.681442\n",
              "8    0.270278  0.210176  0.860863  0.919926  0.691280\n",
              "10   0.070478  0.020762  0.431127  0.906775  0.664769\n",
              "12   0.085819  0.674698  0.769087  0.674407  0.575580\n",
              "..        ...       ...       ...       ...       ...\n",
              "325  0.060928  0.620698  0.461254  0.859391  0.669687\n",
              "326  0.078162  0.074972  0.995380  0.687150  0.801369\n",
              "327  0.189419  0.761112  0.252371  0.859323  0.036863\n",
              "331  0.280055  0.556596  0.733664  0.615917  0.530238\n",
              "332  0.016227  0.733768  0.922315  0.918100  0.793854\n",
              "\n",
              "[101 rows x 5 columns]"
            ]
          },
          "metadata": {
            "tags": []
          },
          "execution_count": 36
        }
      ]
    },
    {
      "cell_type": "code",
      "metadata": {
        "id": "EZf5QeoqqGGU",
        "colab_type": "code",
        "colab": {
          "base_uri": "https://localhost:8080/",
          "height": 419
        },
        "outputId": "948e22e9-fc89-4930-e743-354fb643bca0"
      },
      "source": [
        "newdf.loc[(newdf[0]<0.3) & (newdf[2]>0.1)]  "
      ],
      "execution_count": 38,
      "outputs": [
        {
          "output_type": "execute_result",
          "data": {
            "text/html": [
              "<div>\n",
              "<style scoped>\n",
              "    .dataframe tbody tr th:only-of-type {\n",
              "        vertical-align: middle;\n",
              "    }\n",
              "\n",
              "    .dataframe tbody tr th {\n",
              "        vertical-align: top;\n",
              "    }\n",
              "\n",
              "    .dataframe thead th {\n",
              "        text-align: right;\n",
              "    }\n",
              "</style>\n",
              "<table border=\"1\" class=\"dataframe\">\n",
              "  <thead>\n",
              "    <tr style=\"text-align: right;\">\n",
              "      <th></th>\n",
              "      <th>0</th>\n",
              "      <th>1</th>\n",
              "      <th>2</th>\n",
              "      <th>3</th>\n",
              "      <th>4</th>\n",
              "    </tr>\n",
              "  </thead>\n",
              "  <tbody>\n",
              "    <tr>\n",
              "      <th>2</th>\n",
              "      <td>0.268596</td>\n",
              "      <td>0.040377</td>\n",
              "      <td>0.494291</td>\n",
              "      <td>0.967130</td>\n",
              "      <td>0.193529</td>\n",
              "    </tr>\n",
              "    <tr>\n",
              "      <th>7</th>\n",
              "      <td>0.199619</td>\n",
              "      <td>0.943094</td>\n",
              "      <td>0.353045</td>\n",
              "      <td>0.608277</td>\n",
              "      <td>0.681442</td>\n",
              "    </tr>\n",
              "    <tr>\n",
              "      <th>8</th>\n",
              "      <td>0.270278</td>\n",
              "      <td>0.210176</td>\n",
              "      <td>0.860863</td>\n",
              "      <td>0.919926</td>\n",
              "      <td>0.691280</td>\n",
              "    </tr>\n",
              "    <tr>\n",
              "      <th>10</th>\n",
              "      <td>0.070478</td>\n",
              "      <td>0.020762</td>\n",
              "      <td>0.431127</td>\n",
              "      <td>0.906775</td>\n",
              "      <td>0.664769</td>\n",
              "    </tr>\n",
              "    <tr>\n",
              "      <th>12</th>\n",
              "      <td>0.085819</td>\n",
              "      <td>0.674698</td>\n",
              "      <td>0.769087</td>\n",
              "      <td>0.674407</td>\n",
              "      <td>0.575580</td>\n",
              "    </tr>\n",
              "    <tr>\n",
              "      <th>...</th>\n",
              "      <td>...</td>\n",
              "      <td>...</td>\n",
              "      <td>...</td>\n",
              "      <td>...</td>\n",
              "      <td>...</td>\n",
              "    </tr>\n",
              "    <tr>\n",
              "      <th>325</th>\n",
              "      <td>0.060928</td>\n",
              "      <td>0.620698</td>\n",
              "      <td>0.461254</td>\n",
              "      <td>0.859391</td>\n",
              "      <td>0.669687</td>\n",
              "    </tr>\n",
              "    <tr>\n",
              "      <th>326</th>\n",
              "      <td>0.078162</td>\n",
              "      <td>0.074972</td>\n",
              "      <td>0.995380</td>\n",
              "      <td>0.687150</td>\n",
              "      <td>0.801369</td>\n",
              "    </tr>\n",
              "    <tr>\n",
              "      <th>327</th>\n",
              "      <td>0.189419</td>\n",
              "      <td>0.761112</td>\n",
              "      <td>0.252371</td>\n",
              "      <td>0.859323</td>\n",
              "      <td>0.036863</td>\n",
              "    </tr>\n",
              "    <tr>\n",
              "      <th>331</th>\n",
              "      <td>0.280055</td>\n",
              "      <td>0.556596</td>\n",
              "      <td>0.733664</td>\n",
              "      <td>0.615917</td>\n",
              "      <td>0.530238</td>\n",
              "    </tr>\n",
              "    <tr>\n",
              "      <th>332</th>\n",
              "      <td>0.016227</td>\n",
              "      <td>0.733768</td>\n",
              "      <td>0.922315</td>\n",
              "      <td>0.918100</td>\n",
              "      <td>0.793854</td>\n",
              "    </tr>\n",
              "  </tbody>\n",
              "</table>\n",
              "<p>92 rows × 5 columns</p>\n",
              "</div>"
            ],
            "text/plain": [
              "            0         1         2         3         4\n",
              "2    0.268596  0.040377  0.494291  0.967130  0.193529\n",
              "7    0.199619  0.943094  0.353045  0.608277  0.681442\n",
              "8    0.270278  0.210176  0.860863  0.919926  0.691280\n",
              "10   0.070478  0.020762  0.431127  0.906775  0.664769\n",
              "12   0.085819  0.674698  0.769087  0.674407  0.575580\n",
              "..        ...       ...       ...       ...       ...\n",
              "325  0.060928  0.620698  0.461254  0.859391  0.669687\n",
              "326  0.078162  0.074972  0.995380  0.687150  0.801369\n",
              "327  0.189419  0.761112  0.252371  0.859323  0.036863\n",
              "331  0.280055  0.556596  0.733664  0.615917  0.530238\n",
              "332  0.016227  0.733768  0.922315  0.918100  0.793854\n",
              "\n",
              "[92 rows x 5 columns]"
            ]
          },
          "metadata": {
            "tags": []
          },
          "execution_count": 38
        }
      ]
    },
    {
      "cell_type": "code",
      "metadata": {
        "id": "kDTuomRBqzAk",
        "colab_type": "code",
        "colab": {
          "base_uri": "https://localhost:8080/",
          "height": 34
        },
        "outputId": "21ca3b94-c9e2-4c5f-a488-0a87457917b8"
      },
      "source": [
        "newdf.iloc[0,4]    # iloc is used to search values according to the index value \n",
        "                    #while loc is used to search values according to the name of the index"
      ],
      "execution_count": 39,
      "outputs": [
        {
          "output_type": "execute_result",
          "data": {
            "text/plain": [
              "0.4733531386842632"
            ]
          },
          "metadata": {
            "tags": []
          },
          "execution_count": 39
        }
      ]
    },
    {
      "cell_type": "code",
      "metadata": {
        "id": "HmOewuk6qzND",
        "colab_type": "code",
        "colab": {
          "base_uri": "https://localhost:8080/",
          "height": 111
        },
        "outputId": "7b9277f9-65f9-4a43-dcb5-2eba56d91d2d"
      },
      "source": [
        "newdf.iloc[[0,5],[1,2]]"
      ],
      "execution_count": 42,
      "outputs": [
        {
          "output_type": "execute_result",
          "data": {
            "text/html": [
              "<div>\n",
              "<style scoped>\n",
              "    .dataframe tbody tr th:only-of-type {\n",
              "        vertical-align: middle;\n",
              "    }\n",
              "\n",
              "    .dataframe tbody tr th {\n",
              "        vertical-align: top;\n",
              "    }\n",
              "\n",
              "    .dataframe thead th {\n",
              "        text-align: right;\n",
              "    }\n",
              "</style>\n",
              "<table border=\"1\" class=\"dataframe\">\n",
              "  <thead>\n",
              "    <tr style=\"text-align: right;\">\n",
              "      <th></th>\n",
              "      <th>1</th>\n",
              "      <th>2</th>\n",
              "    </tr>\n",
              "  </thead>\n",
              "  <tbody>\n",
              "    <tr>\n",
              "      <th>0</th>\n",
              "      <td>0.665998</td>\n",
              "      <td>0.305865</td>\n",
              "    </tr>\n",
              "    <tr>\n",
              "      <th>5</th>\n",
              "      <td>0.697335</td>\n",
              "      <td>0.188028</td>\n",
              "    </tr>\n",
              "  </tbody>\n",
              "</table>\n",
              "</div>"
            ],
            "text/plain": [
              "          1         2\n",
              "0  0.665998  0.305865\n",
              "5  0.697335  0.188028"
            ]
          },
          "metadata": {
            "tags": []
          },
          "execution_count": 42
        }
      ]
    },
    {
      "cell_type": "code",
      "metadata": {
        "id": "BnstKnvusRPn",
        "colab_type": "code",
        "colab": {
          "base_uri": "https://localhost:8080/",
          "height": 142
        },
        "outputId": "c5239b76-0f9b-404b-f414-f499ab2dd0ce"
      },
      "source": [
        "newdf.head(3)"
      ],
      "execution_count": 45,
      "outputs": [
        {
          "output_type": "execute_result",
          "data": {
            "text/html": [
              "<div>\n",
              "<style scoped>\n",
              "    .dataframe tbody tr th:only-of-type {\n",
              "        vertical-align: middle;\n",
              "    }\n",
              "\n",
              "    .dataframe tbody tr th {\n",
              "        vertical-align: top;\n",
              "    }\n",
              "\n",
              "    .dataframe thead th {\n",
              "        text-align: right;\n",
              "    }\n",
              "</style>\n",
              "<table border=\"1\" class=\"dataframe\">\n",
              "  <thead>\n",
              "    <tr style=\"text-align: right;\">\n",
              "      <th></th>\n",
              "      <th>0</th>\n",
              "      <th>1</th>\n",
              "      <th>2</th>\n",
              "      <th>3</th>\n",
              "      <th>4</th>\n",
              "    </tr>\n",
              "  </thead>\n",
              "  <tbody>\n",
              "    <tr>\n",
              "      <th>0</th>\n",
              "      <td>98.000000</td>\n",
              "      <td>0.665998</td>\n",
              "      <td>0.305865</td>\n",
              "      <td>0.760740</td>\n",
              "      <td>0.473353</td>\n",
              "    </tr>\n",
              "    <tr>\n",
              "      <th>1</th>\n",
              "      <td>0.395723</td>\n",
              "      <td>0.766573</td>\n",
              "      <td>0.992259</td>\n",
              "      <td>0.628542</td>\n",
              "      <td>0.311650</td>\n",
              "    </tr>\n",
              "    <tr>\n",
              "      <th>2</th>\n",
              "      <td>0.268596</td>\n",
              "      <td>0.040377</td>\n",
              "      <td>0.494291</td>\n",
              "      <td>0.967130</td>\n",
              "      <td>0.193529</td>\n",
              "    </tr>\n",
              "  </tbody>\n",
              "</table>\n",
              "</div>"
            ],
            "text/plain": [
              "           0         1         2         3         4\n",
              "0  98.000000  0.665998  0.305865  0.760740  0.473353\n",
              "1   0.395723  0.766573  0.992259  0.628542  0.311650\n",
              "2   0.268596  0.040377  0.494291  0.967130  0.193529"
            ]
          },
          "metadata": {
            "tags": []
          },
          "execution_count": 45
        }
      ]
    },
    {
      "cell_type": "code",
      "metadata": {
        "id": "AOROW-BasRL1",
        "colab_type": "code",
        "colab": {
          "base_uri": "https://localhost:8080/",
          "height": 419
        },
        "outputId": "56438408-3931-4b9c-f6b7-282b54cecb0d"
      },
      "source": [
        "newdf.drop(0)    # The data of the column 1 will be dropped but \n",
        "                # not inside the original dataframe"
      ],
      "execution_count": 44,
      "outputs": [
        {
          "output_type": "execute_result",
          "data": {
            "text/html": [
              "<div>\n",
              "<style scoped>\n",
              "    .dataframe tbody tr th:only-of-type {\n",
              "        vertical-align: middle;\n",
              "    }\n",
              "\n",
              "    .dataframe tbody tr th {\n",
              "        vertical-align: top;\n",
              "    }\n",
              "\n",
              "    .dataframe thead th {\n",
              "        text-align: right;\n",
              "    }\n",
              "</style>\n",
              "<table border=\"1\" class=\"dataframe\">\n",
              "  <thead>\n",
              "    <tr style=\"text-align: right;\">\n",
              "      <th></th>\n",
              "      <th>0</th>\n",
              "      <th>1</th>\n",
              "      <th>2</th>\n",
              "      <th>3</th>\n",
              "      <th>4</th>\n",
              "    </tr>\n",
              "  </thead>\n",
              "  <tbody>\n",
              "    <tr>\n",
              "      <th>1</th>\n",
              "      <td>0.395723</td>\n",
              "      <td>0.766573</td>\n",
              "      <td>0.992259</td>\n",
              "      <td>0.628542</td>\n",
              "      <td>0.311650</td>\n",
              "    </tr>\n",
              "    <tr>\n",
              "      <th>2</th>\n",
              "      <td>0.268596</td>\n",
              "      <td>0.040377</td>\n",
              "      <td>0.494291</td>\n",
              "      <td>0.967130</td>\n",
              "      <td>0.193529</td>\n",
              "    </tr>\n",
              "    <tr>\n",
              "      <th>3</th>\n",
              "      <td>0.338216</td>\n",
              "      <td>0.707649</td>\n",
              "      <td>0.217794</td>\n",
              "      <td>0.158542</td>\n",
              "      <td>0.873896</td>\n",
              "    </tr>\n",
              "    <tr>\n",
              "      <th>4</th>\n",
              "      <td>0.456514</td>\n",
              "      <td>0.525456</td>\n",
              "      <td>0.790216</td>\n",
              "      <td>0.601927</td>\n",
              "      <td>0.844689</td>\n",
              "    </tr>\n",
              "    <tr>\n",
              "      <th>5</th>\n",
              "      <td>0.990061</td>\n",
              "      <td>0.697335</td>\n",
              "      <td>0.188028</td>\n",
              "      <td>0.335889</td>\n",
              "      <td>0.733429</td>\n",
              "    </tr>\n",
              "    <tr>\n",
              "      <th>...</th>\n",
              "      <td>...</td>\n",
              "      <td>...</td>\n",
              "      <td>...</td>\n",
              "      <td>...</td>\n",
              "      <td>...</td>\n",
              "    </tr>\n",
              "    <tr>\n",
              "      <th>329</th>\n",
              "      <td>0.463314</td>\n",
              "      <td>0.230378</td>\n",
              "      <td>0.561559</td>\n",
              "      <td>0.699623</td>\n",
              "      <td>0.222213</td>\n",
              "    </tr>\n",
              "    <tr>\n",
              "      <th>330</th>\n",
              "      <td>0.630390</td>\n",
              "      <td>0.630176</td>\n",
              "      <td>0.764641</td>\n",
              "      <td>0.610893</td>\n",
              "      <td>0.812103</td>\n",
              "    </tr>\n",
              "    <tr>\n",
              "      <th>331</th>\n",
              "      <td>0.280055</td>\n",
              "      <td>0.556596</td>\n",
              "      <td>0.733664</td>\n",
              "      <td>0.615917</td>\n",
              "      <td>0.530238</td>\n",
              "    </tr>\n",
              "    <tr>\n",
              "      <th>332</th>\n",
              "      <td>0.016227</td>\n",
              "      <td>0.733768</td>\n",
              "      <td>0.922315</td>\n",
              "      <td>0.918100</td>\n",
              "      <td>0.793854</td>\n",
              "    </tr>\n",
              "    <tr>\n",
              "      <th>333</th>\n",
              "      <td>0.831791</td>\n",
              "      <td>0.735859</td>\n",
              "      <td>0.010889</td>\n",
              "      <td>0.768371</td>\n",
              "      <td>0.953172</td>\n",
              "    </tr>\n",
              "  </tbody>\n",
              "</table>\n",
              "<p>333 rows × 5 columns</p>\n",
              "</div>"
            ],
            "text/plain": [
              "            0         1         2         3         4\n",
              "1    0.395723  0.766573  0.992259  0.628542  0.311650\n",
              "2    0.268596  0.040377  0.494291  0.967130  0.193529\n",
              "3    0.338216  0.707649  0.217794  0.158542  0.873896\n",
              "4    0.456514  0.525456  0.790216  0.601927  0.844689\n",
              "5    0.990061  0.697335  0.188028  0.335889  0.733429\n",
              "..        ...       ...       ...       ...       ...\n",
              "329  0.463314  0.230378  0.561559  0.699623  0.222213\n",
              "330  0.630390  0.630176  0.764641  0.610893  0.812103\n",
              "331  0.280055  0.556596  0.733664  0.615917  0.530238\n",
              "332  0.016227  0.733768  0.922315  0.918100  0.793854\n",
              "333  0.831791  0.735859  0.010889  0.768371  0.953172\n",
              "\n",
              "[333 rows x 5 columns]"
            ]
          },
          "metadata": {
            "tags": []
          },
          "execution_count": 44
        }
      ]
    },
    {
      "cell_type": "code",
      "metadata": {
        "id": "QosegYpNsRKR",
        "colab_type": "code",
        "colab": {}
      },
      "source": [
        "newdf.drop([0,3],axis=1,inplace=True)   # Here dataframe of origninal array will be dropped"
      ],
      "execution_count": 47,
      "outputs": []
    },
    {
      "cell_type": "code",
      "metadata": {
        "id": "4TYN2AW4tHmk",
        "colab_type": "code",
        "colab": {
          "base_uri": "https://localhost:8080/",
          "height": 419
        },
        "outputId": "b6f00985-23cf-4653-9a32-11d973e7b399"
      },
      "source": [
        "newdf"
      ],
      "execution_count": 48,
      "outputs": [
        {
          "output_type": "execute_result",
          "data": {
            "text/html": [
              "<div>\n",
              "<style scoped>\n",
              "    .dataframe tbody tr th:only-of-type {\n",
              "        vertical-align: middle;\n",
              "    }\n",
              "\n",
              "    .dataframe tbody tr th {\n",
              "        vertical-align: top;\n",
              "    }\n",
              "\n",
              "    .dataframe thead th {\n",
              "        text-align: right;\n",
              "    }\n",
              "</style>\n",
              "<table border=\"1\" class=\"dataframe\">\n",
              "  <thead>\n",
              "    <tr style=\"text-align: right;\">\n",
              "      <th></th>\n",
              "      <th>1</th>\n",
              "      <th>2</th>\n",
              "      <th>4</th>\n",
              "    </tr>\n",
              "  </thead>\n",
              "  <tbody>\n",
              "    <tr>\n",
              "      <th>0</th>\n",
              "      <td>0.665998</td>\n",
              "      <td>0.305865</td>\n",
              "      <td>0.473353</td>\n",
              "    </tr>\n",
              "    <tr>\n",
              "      <th>1</th>\n",
              "      <td>0.766573</td>\n",
              "      <td>0.992259</td>\n",
              "      <td>0.311650</td>\n",
              "    </tr>\n",
              "    <tr>\n",
              "      <th>2</th>\n",
              "      <td>0.040377</td>\n",
              "      <td>0.494291</td>\n",
              "      <td>0.193529</td>\n",
              "    </tr>\n",
              "    <tr>\n",
              "      <th>3</th>\n",
              "      <td>0.707649</td>\n",
              "      <td>0.217794</td>\n",
              "      <td>0.873896</td>\n",
              "    </tr>\n",
              "    <tr>\n",
              "      <th>4</th>\n",
              "      <td>0.525456</td>\n",
              "      <td>0.790216</td>\n",
              "      <td>0.844689</td>\n",
              "    </tr>\n",
              "    <tr>\n",
              "      <th>...</th>\n",
              "      <td>...</td>\n",
              "      <td>...</td>\n",
              "      <td>...</td>\n",
              "    </tr>\n",
              "    <tr>\n",
              "      <th>329</th>\n",
              "      <td>0.230378</td>\n",
              "      <td>0.561559</td>\n",
              "      <td>0.222213</td>\n",
              "    </tr>\n",
              "    <tr>\n",
              "      <th>330</th>\n",
              "      <td>0.630176</td>\n",
              "      <td>0.764641</td>\n",
              "      <td>0.812103</td>\n",
              "    </tr>\n",
              "    <tr>\n",
              "      <th>331</th>\n",
              "      <td>0.556596</td>\n",
              "      <td>0.733664</td>\n",
              "      <td>0.530238</td>\n",
              "    </tr>\n",
              "    <tr>\n",
              "      <th>332</th>\n",
              "      <td>0.733768</td>\n",
              "      <td>0.922315</td>\n",
              "      <td>0.793854</td>\n",
              "    </tr>\n",
              "    <tr>\n",
              "      <th>333</th>\n",
              "      <td>0.735859</td>\n",
              "      <td>0.010889</td>\n",
              "      <td>0.953172</td>\n",
              "    </tr>\n",
              "  </tbody>\n",
              "</table>\n",
              "<p>334 rows × 3 columns</p>\n",
              "</div>"
            ],
            "text/plain": [
              "            1         2         4\n",
              "0    0.665998  0.305865  0.473353\n",
              "1    0.766573  0.992259  0.311650\n",
              "2    0.040377  0.494291  0.193529\n",
              "3    0.707649  0.217794  0.873896\n",
              "4    0.525456  0.790216  0.844689\n",
              "..        ...       ...       ...\n",
              "329  0.230378  0.561559  0.222213\n",
              "330  0.630176  0.764641  0.812103\n",
              "331  0.556596  0.733664  0.530238\n",
              "332  0.733768  0.922315  0.793854\n",
              "333  0.735859  0.010889  0.953172\n",
              "\n",
              "[334 rows x 3 columns]"
            ]
          },
          "metadata": {
            "tags": []
          },
          "execution_count": 48
        }
      ]
    },
    {
      "cell_type": "code",
      "metadata": {
        "id": "Kb7CHoibtNrl",
        "colab_type": "code",
        "colab": {
          "base_uri": "https://localhost:8080/",
          "height": 419
        },
        "outputId": "9f1f65b1-4dbc-449a-f010-43b05afb44fb"
      },
      "source": [
        "newdf.reset_index(drop=True)  # It is used to reset index removing index column"
      ],
      "execution_count": 50,
      "outputs": [
        {
          "output_type": "execute_result",
          "data": {
            "text/html": [
              "<div>\n",
              "<style scoped>\n",
              "    .dataframe tbody tr th:only-of-type {\n",
              "        vertical-align: middle;\n",
              "    }\n",
              "\n",
              "    .dataframe tbody tr th {\n",
              "        vertical-align: top;\n",
              "    }\n",
              "\n",
              "    .dataframe thead th {\n",
              "        text-align: right;\n",
              "    }\n",
              "</style>\n",
              "<table border=\"1\" class=\"dataframe\">\n",
              "  <thead>\n",
              "    <tr style=\"text-align: right;\">\n",
              "      <th></th>\n",
              "      <th>index</th>\n",
              "      <th>1</th>\n",
              "      <th>2</th>\n",
              "      <th>4</th>\n",
              "    </tr>\n",
              "  </thead>\n",
              "  <tbody>\n",
              "    <tr>\n",
              "      <th>0</th>\n",
              "      <td>0</td>\n",
              "      <td>0.665998</td>\n",
              "      <td>0.305865</td>\n",
              "      <td>0.473353</td>\n",
              "    </tr>\n",
              "    <tr>\n",
              "      <th>1</th>\n",
              "      <td>1</td>\n",
              "      <td>0.766573</td>\n",
              "      <td>0.992259</td>\n",
              "      <td>0.311650</td>\n",
              "    </tr>\n",
              "    <tr>\n",
              "      <th>2</th>\n",
              "      <td>2</td>\n",
              "      <td>0.040377</td>\n",
              "      <td>0.494291</td>\n",
              "      <td>0.193529</td>\n",
              "    </tr>\n",
              "    <tr>\n",
              "      <th>3</th>\n",
              "      <td>3</td>\n",
              "      <td>0.707649</td>\n",
              "      <td>0.217794</td>\n",
              "      <td>0.873896</td>\n",
              "    </tr>\n",
              "    <tr>\n",
              "      <th>4</th>\n",
              "      <td>4</td>\n",
              "      <td>0.525456</td>\n",
              "      <td>0.790216</td>\n",
              "      <td>0.844689</td>\n",
              "    </tr>\n",
              "    <tr>\n",
              "      <th>...</th>\n",
              "      <td>...</td>\n",
              "      <td>...</td>\n",
              "      <td>...</td>\n",
              "      <td>...</td>\n",
              "    </tr>\n",
              "    <tr>\n",
              "      <th>329</th>\n",
              "      <td>329</td>\n",
              "      <td>0.230378</td>\n",
              "      <td>0.561559</td>\n",
              "      <td>0.222213</td>\n",
              "    </tr>\n",
              "    <tr>\n",
              "      <th>330</th>\n",
              "      <td>330</td>\n",
              "      <td>0.630176</td>\n",
              "      <td>0.764641</td>\n",
              "      <td>0.812103</td>\n",
              "    </tr>\n",
              "    <tr>\n",
              "      <th>331</th>\n",
              "      <td>331</td>\n",
              "      <td>0.556596</td>\n",
              "      <td>0.733664</td>\n",
              "      <td>0.530238</td>\n",
              "    </tr>\n",
              "    <tr>\n",
              "      <th>332</th>\n",
              "      <td>332</td>\n",
              "      <td>0.733768</td>\n",
              "      <td>0.922315</td>\n",
              "      <td>0.793854</td>\n",
              "    </tr>\n",
              "    <tr>\n",
              "      <th>333</th>\n",
              "      <td>333</td>\n",
              "      <td>0.735859</td>\n",
              "      <td>0.010889</td>\n",
              "      <td>0.953172</td>\n",
              "    </tr>\n",
              "  </tbody>\n",
              "</table>\n",
              "<p>334 rows × 4 columns</p>\n",
              "</div>"
            ],
            "text/plain": [
              "     index         1         2         4\n",
              "0        0  0.665998  0.305865  0.473353\n",
              "1        1  0.766573  0.992259  0.311650\n",
              "2        2  0.040377  0.494291  0.193529\n",
              "3        3  0.707649  0.217794  0.873896\n",
              "4        4  0.525456  0.790216  0.844689\n",
              "..     ...       ...       ...       ...\n",
              "329    329  0.230378  0.561559  0.222213\n",
              "330    330  0.630176  0.764641  0.812103\n",
              "331    331  0.556596  0.733664  0.530238\n",
              "332    332  0.733768  0.922315  0.793854\n",
              "333    333  0.735859  0.010889  0.953172\n",
              "\n",
              "[334 rows x 4 columns]"
            ]
          },
          "metadata": {
            "tags": []
          },
          "execution_count": 50
        }
      ]
    },
    {
      "cell_type": "code",
      "metadata": {
        "id": "wbWGu5r5tOK-",
        "colab_type": "code",
        "colab": {}
      },
      "source": [
        "newdf[1] = None # It will set to none in column 1"
      ],
      "execution_count": 51,
      "outputs": []
    },
    {
      "cell_type": "code",
      "metadata": {
        "id": "eu8y9TXbuJ-D",
        "colab_type": "code",
        "colab": {
          "base_uri": "https://localhost:8080/",
          "height": 419
        },
        "outputId": "1dcd6a0c-ef56-4c4c-db54-15abae3baff0"
      },
      "source": [
        "newdf"
      ],
      "execution_count": 52,
      "outputs": [
        {
          "output_type": "execute_result",
          "data": {
            "text/html": [
              "<div>\n",
              "<style scoped>\n",
              "    .dataframe tbody tr th:only-of-type {\n",
              "        vertical-align: middle;\n",
              "    }\n",
              "\n",
              "    .dataframe tbody tr th {\n",
              "        vertical-align: top;\n",
              "    }\n",
              "\n",
              "    .dataframe thead th {\n",
              "        text-align: right;\n",
              "    }\n",
              "</style>\n",
              "<table border=\"1\" class=\"dataframe\">\n",
              "  <thead>\n",
              "    <tr style=\"text-align: right;\">\n",
              "      <th></th>\n",
              "      <th>1</th>\n",
              "      <th>2</th>\n",
              "      <th>4</th>\n",
              "    </tr>\n",
              "  </thead>\n",
              "  <tbody>\n",
              "    <tr>\n",
              "      <th>0</th>\n",
              "      <td>None</td>\n",
              "      <td>0.305865</td>\n",
              "      <td>0.473353</td>\n",
              "    </tr>\n",
              "    <tr>\n",
              "      <th>1</th>\n",
              "      <td>None</td>\n",
              "      <td>0.992259</td>\n",
              "      <td>0.311650</td>\n",
              "    </tr>\n",
              "    <tr>\n",
              "      <th>2</th>\n",
              "      <td>None</td>\n",
              "      <td>0.494291</td>\n",
              "      <td>0.193529</td>\n",
              "    </tr>\n",
              "    <tr>\n",
              "      <th>3</th>\n",
              "      <td>None</td>\n",
              "      <td>0.217794</td>\n",
              "      <td>0.873896</td>\n",
              "    </tr>\n",
              "    <tr>\n",
              "      <th>4</th>\n",
              "      <td>None</td>\n",
              "      <td>0.790216</td>\n",
              "      <td>0.844689</td>\n",
              "    </tr>\n",
              "    <tr>\n",
              "      <th>...</th>\n",
              "      <td>...</td>\n",
              "      <td>...</td>\n",
              "      <td>...</td>\n",
              "    </tr>\n",
              "    <tr>\n",
              "      <th>329</th>\n",
              "      <td>None</td>\n",
              "      <td>0.561559</td>\n",
              "      <td>0.222213</td>\n",
              "    </tr>\n",
              "    <tr>\n",
              "      <th>330</th>\n",
              "      <td>None</td>\n",
              "      <td>0.764641</td>\n",
              "      <td>0.812103</td>\n",
              "    </tr>\n",
              "    <tr>\n",
              "      <th>331</th>\n",
              "      <td>None</td>\n",
              "      <td>0.733664</td>\n",
              "      <td>0.530238</td>\n",
              "    </tr>\n",
              "    <tr>\n",
              "      <th>332</th>\n",
              "      <td>None</td>\n",
              "      <td>0.922315</td>\n",
              "      <td>0.793854</td>\n",
              "    </tr>\n",
              "    <tr>\n",
              "      <th>333</th>\n",
              "      <td>None</td>\n",
              "      <td>0.010889</td>\n",
              "      <td>0.953172</td>\n",
              "    </tr>\n",
              "  </tbody>\n",
              "</table>\n",
              "<p>334 rows × 3 columns</p>\n",
              "</div>"
            ],
            "text/plain": [
              "        1         2         4\n",
              "0    None  0.305865  0.473353\n",
              "1    None  0.992259  0.311650\n",
              "2    None  0.494291  0.193529\n",
              "3    None  0.217794  0.873896\n",
              "4    None  0.790216  0.844689\n",
              "..    ...       ...       ...\n",
              "329  None  0.561559  0.222213\n",
              "330  None  0.764641  0.812103\n",
              "331  None  0.733664  0.530238\n",
              "332  None  0.922315  0.793854\n",
              "333  None  0.010889  0.953172\n",
              "\n",
              "[334 rows x 3 columns]"
            ]
          },
          "metadata": {
            "tags": []
          },
          "execution_count": 52
        }
      ]
    },
    {
      "cell_type": "code",
      "metadata": {
        "id": "lfIUslWDuJkm",
        "colab_type": "code",
        "colab": {
          "base_uri": "https://localhost:8080/",
          "height": 221
        },
        "outputId": "24f4629f-511f-4ff9-e706-13359b452183"
      },
      "source": [
        "newdf[1].isnull()  # It will return true if value is null "
      ],
      "execution_count": 53,
      "outputs": [
        {
          "output_type": "execute_result",
          "data": {
            "text/plain": [
              "0      True\n",
              "1      True\n",
              "2      True\n",
              "3      True\n",
              "4      True\n",
              "       ... \n",
              "329    True\n",
              "330    True\n",
              "331    True\n",
              "332    True\n",
              "333    True\n",
              "Name: 1, Length: 334, dtype: bool"
            ]
          },
          "metadata": {
            "tags": []
          },
          "execution_count": 53
        }
      ]
    },
    {
      "cell_type": "code",
      "metadata": {
        "id": "-EAeNUOyulee",
        "colab_type": "code",
        "colab": {}
      },
      "source": [
        "newdf.loc[:,[1]] = 56"
      ],
      "execution_count": 54,
      "outputs": []
    },
    {
      "cell_type": "code",
      "metadata": {
        "id": "M8xH1shouudp",
        "colab_type": "code",
        "colab": {
          "base_uri": "https://localhost:8080/",
          "height": 419
        },
        "outputId": "2a02ac9b-ba96-4dd6-ca69-4e109cc6d85c"
      },
      "source": [
        "newdf"
      ],
      "execution_count": 55,
      "outputs": [
        {
          "output_type": "execute_result",
          "data": {
            "text/html": [
              "<div>\n",
              "<style scoped>\n",
              "    .dataframe tbody tr th:only-of-type {\n",
              "        vertical-align: middle;\n",
              "    }\n",
              "\n",
              "    .dataframe tbody tr th {\n",
              "        vertical-align: top;\n",
              "    }\n",
              "\n",
              "    .dataframe thead th {\n",
              "        text-align: right;\n",
              "    }\n",
              "</style>\n",
              "<table border=\"1\" class=\"dataframe\">\n",
              "  <thead>\n",
              "    <tr style=\"text-align: right;\">\n",
              "      <th></th>\n",
              "      <th>1</th>\n",
              "      <th>2</th>\n",
              "      <th>4</th>\n",
              "    </tr>\n",
              "  </thead>\n",
              "  <tbody>\n",
              "    <tr>\n",
              "      <th>0</th>\n",
              "      <td>56</td>\n",
              "      <td>0.305865</td>\n",
              "      <td>0.473353</td>\n",
              "    </tr>\n",
              "    <tr>\n",
              "      <th>1</th>\n",
              "      <td>56</td>\n",
              "      <td>0.992259</td>\n",
              "      <td>0.311650</td>\n",
              "    </tr>\n",
              "    <tr>\n",
              "      <th>2</th>\n",
              "      <td>56</td>\n",
              "      <td>0.494291</td>\n",
              "      <td>0.193529</td>\n",
              "    </tr>\n",
              "    <tr>\n",
              "      <th>3</th>\n",
              "      <td>56</td>\n",
              "      <td>0.217794</td>\n",
              "      <td>0.873896</td>\n",
              "    </tr>\n",
              "    <tr>\n",
              "      <th>4</th>\n",
              "      <td>56</td>\n",
              "      <td>0.790216</td>\n",
              "      <td>0.844689</td>\n",
              "    </tr>\n",
              "    <tr>\n",
              "      <th>...</th>\n",
              "      <td>...</td>\n",
              "      <td>...</td>\n",
              "      <td>...</td>\n",
              "    </tr>\n",
              "    <tr>\n",
              "      <th>329</th>\n",
              "      <td>56</td>\n",
              "      <td>0.561559</td>\n",
              "      <td>0.222213</td>\n",
              "    </tr>\n",
              "    <tr>\n",
              "      <th>330</th>\n",
              "      <td>56</td>\n",
              "      <td>0.764641</td>\n",
              "      <td>0.812103</td>\n",
              "    </tr>\n",
              "    <tr>\n",
              "      <th>331</th>\n",
              "      <td>56</td>\n",
              "      <td>0.733664</td>\n",
              "      <td>0.530238</td>\n",
              "    </tr>\n",
              "    <tr>\n",
              "      <th>332</th>\n",
              "      <td>56</td>\n",
              "      <td>0.922315</td>\n",
              "      <td>0.793854</td>\n",
              "    </tr>\n",
              "    <tr>\n",
              "      <th>333</th>\n",
              "      <td>56</td>\n",
              "      <td>0.010889</td>\n",
              "      <td>0.953172</td>\n",
              "    </tr>\n",
              "  </tbody>\n",
              "</table>\n",
              "<p>334 rows × 3 columns</p>\n",
              "</div>"
            ],
            "text/plain": [
              "      1         2         4\n",
              "0    56  0.305865  0.473353\n",
              "1    56  0.992259  0.311650\n",
              "2    56  0.494291  0.193529\n",
              "3    56  0.217794  0.873896\n",
              "4    56  0.790216  0.844689\n",
              "..   ..       ...       ...\n",
              "329  56  0.561559  0.222213\n",
              "330  56  0.764641  0.812103\n",
              "331  56  0.733664  0.530238\n",
              "332  56  0.922315  0.793854\n",
              "333  56  0.010889  0.953172\n",
              "\n",
              "[334 rows x 3 columns]"
            ]
          },
          "metadata": {
            "tags": []
          },
          "execution_count": 55
        }
      ]
    },
    {
      "cell_type": "code",
      "metadata": {
        "id": "ExAq2GK0uy63",
        "colab_type": "code",
        "colab": {}
      },
      "source": [
        "df1 = pd.DataFrame({\"name\":[\"Alfred\",\"Batman\",\"Ironman\"],\n",
        "                    \"tony\":[np.nan,\"Batmobile\",\"Bullwhip\"],\n",
        "                    \"born\":[pd.NaT, pd.Timestamp(\"1940-04-25\"),pd.NaT]})"
      ],
      "execution_count": 59,
      "outputs": []
    },
    {
      "cell_type": "code",
      "metadata": {
        "id": "2ohRG1G4wnu1",
        "colab_type": "code",
        "colab": {
          "base_uri": "https://localhost:8080/",
          "height": 142
        },
        "outputId": "36391226-20b0-4032-8bb8-7edb498d5343"
      },
      "source": [
        "df1"
      ],
      "execution_count": 61,
      "outputs": [
        {
          "output_type": "execute_result",
          "data": {
            "text/html": [
              "<div>\n",
              "<style scoped>\n",
              "    .dataframe tbody tr th:only-of-type {\n",
              "        vertical-align: middle;\n",
              "    }\n",
              "\n",
              "    .dataframe tbody tr th {\n",
              "        vertical-align: top;\n",
              "    }\n",
              "\n",
              "    .dataframe thead th {\n",
              "        text-align: right;\n",
              "    }\n",
              "</style>\n",
              "<table border=\"1\" class=\"dataframe\">\n",
              "  <thead>\n",
              "    <tr style=\"text-align: right;\">\n",
              "      <th></th>\n",
              "      <th>name</th>\n",
              "      <th>tony</th>\n",
              "      <th>born</th>\n",
              "    </tr>\n",
              "  </thead>\n",
              "  <tbody>\n",
              "    <tr>\n",
              "      <th>0</th>\n",
              "      <td>Alfred</td>\n",
              "      <td>NaN</td>\n",
              "      <td>NaT</td>\n",
              "    </tr>\n",
              "    <tr>\n",
              "      <th>1</th>\n",
              "      <td>Batman</td>\n",
              "      <td>Batmobile</td>\n",
              "      <td>1940-04-25</td>\n",
              "    </tr>\n",
              "    <tr>\n",
              "      <th>2</th>\n",
              "      <td>Ironman</td>\n",
              "      <td>Bullwhip</td>\n",
              "      <td>NaT</td>\n",
              "    </tr>\n",
              "  </tbody>\n",
              "</table>\n",
              "</div>"
            ],
            "text/plain": [
              "      name       tony       born\n",
              "0   Alfred        NaN        NaT\n",
              "1   Batman  Batmobile 1940-04-25\n",
              "2  Ironman   Bullwhip        NaT"
            ]
          },
          "metadata": {
            "tags": []
          },
          "execution_count": 61
        }
      ]
    },
    {
      "cell_type": "code",
      "metadata": {
        "id": "Jr2HAjGuwn4R",
        "colab_type": "code",
        "colab": {
          "base_uri": "https://localhost:8080/",
          "height": 80
        },
        "outputId": "08f3f3d3-f3dc-4910-b43a-cb9662d65470"
      },
      "source": [
        "df1.dropna()   # 'Na' containig all values will be dropped if any"
      ],
      "execution_count": 63,
      "outputs": [
        {
          "output_type": "execute_result",
          "data": {
            "text/html": [
              "<div>\n",
              "<style scoped>\n",
              "    .dataframe tbody tr th:only-of-type {\n",
              "        vertical-align: middle;\n",
              "    }\n",
              "\n",
              "    .dataframe tbody tr th {\n",
              "        vertical-align: top;\n",
              "    }\n",
              "\n",
              "    .dataframe thead th {\n",
              "        text-align: right;\n",
              "    }\n",
              "</style>\n",
              "<table border=\"1\" class=\"dataframe\">\n",
              "  <thead>\n",
              "    <tr style=\"text-align: right;\">\n",
              "      <th></th>\n",
              "      <th>name</th>\n",
              "      <th>tony</th>\n",
              "      <th>born</th>\n",
              "    </tr>\n",
              "  </thead>\n",
              "  <tbody>\n",
              "    <tr>\n",
              "      <th>1</th>\n",
              "      <td>Batman</td>\n",
              "      <td>Batmobile</td>\n",
              "      <td>1940-04-25</td>\n",
              "    </tr>\n",
              "  </tbody>\n",
              "</table>\n",
              "</div>"
            ],
            "text/plain": [
              "     name       tony       born\n",
              "1  Batman  Batmobile 1940-04-25"
            ]
          },
          "metadata": {
            "tags": []
          },
          "execution_count": 63
        }
      ]
    },
    {
      "cell_type": "code",
      "metadata": {
        "id": "3RDl1-zuw281",
        "colab_type": "code",
        "colab": {
          "base_uri": "https://localhost:8080/",
          "height": 142
        },
        "outputId": "8aa7b5ab-80b2-4e77-dfa6-8cbb8d566722"
      },
      "source": [
        "df1.dropna(how='all') # if all  is 'Na' then table is dropped"
      ],
      "execution_count": 64,
      "outputs": [
        {
          "output_type": "execute_result",
          "data": {
            "text/html": [
              "<div>\n",
              "<style scoped>\n",
              "    .dataframe tbody tr th:only-of-type {\n",
              "        vertical-align: middle;\n",
              "    }\n",
              "\n",
              "    .dataframe tbody tr th {\n",
              "        vertical-align: top;\n",
              "    }\n",
              "\n",
              "    .dataframe thead th {\n",
              "        text-align: right;\n",
              "    }\n",
              "</style>\n",
              "<table border=\"1\" class=\"dataframe\">\n",
              "  <thead>\n",
              "    <tr style=\"text-align: right;\">\n",
              "      <th></th>\n",
              "      <th>name</th>\n",
              "      <th>tony</th>\n",
              "      <th>born</th>\n",
              "    </tr>\n",
              "  </thead>\n",
              "  <tbody>\n",
              "    <tr>\n",
              "      <th>0</th>\n",
              "      <td>Alfred</td>\n",
              "      <td>NaN</td>\n",
              "      <td>NaT</td>\n",
              "    </tr>\n",
              "    <tr>\n",
              "      <th>1</th>\n",
              "      <td>Batman</td>\n",
              "      <td>Batmobile</td>\n",
              "      <td>1940-04-25</td>\n",
              "    </tr>\n",
              "    <tr>\n",
              "      <th>2</th>\n",
              "      <td>Ironman</td>\n",
              "      <td>Bullwhip</td>\n",
              "      <td>NaT</td>\n",
              "    </tr>\n",
              "  </tbody>\n",
              "</table>\n",
              "</div>"
            ],
            "text/plain": [
              "      name       tony       born\n",
              "0   Alfred        NaN        NaT\n",
              "1   Batman  Batmobile 1940-04-25\n",
              "2  Ironman   Bullwhip        NaT"
            ]
          },
          "metadata": {
            "tags": []
          },
          "execution_count": 64
        }
      ]
    },
    {
      "cell_type": "code",
      "metadata": {
        "id": "o3KFISy1xACg",
        "colab_type": "code",
        "colab": {}
      },
      "source": [
        "df1 = pd.DataFrame({\"name\":[\"Alfred\",\"Batman\",\"Alfred\"],\n",
        "                    \"tony\":[np.nan,\"Batmobile\",\"Bullwhip\"],\n",
        "                    \"born\":[pd.NaT, pd.Timestamp(\"1940-04-25\"),pd.NaT]})"
      ],
      "execution_count": 68,
      "outputs": []
    },
    {
      "cell_type": "code",
      "metadata": {
        "id": "enqMlwMaw3L6",
        "colab_type": "code",
        "colab": {
          "base_uri": "https://localhost:8080/",
          "height": 111
        },
        "outputId": "14ed1d5c-9f03-4cfa-c65b-7a748f18a0aa"
      },
      "source": [
        "df1.drop_duplicates(subset=['name'])  # All duplicates in name column will be deleted"
      ],
      "execution_count": 69,
      "outputs": [
        {
          "output_type": "execute_result",
          "data": {
            "text/html": [
              "<div>\n",
              "<style scoped>\n",
              "    .dataframe tbody tr th:only-of-type {\n",
              "        vertical-align: middle;\n",
              "    }\n",
              "\n",
              "    .dataframe tbody tr th {\n",
              "        vertical-align: top;\n",
              "    }\n",
              "\n",
              "    .dataframe thead th {\n",
              "        text-align: right;\n",
              "    }\n",
              "</style>\n",
              "<table border=\"1\" class=\"dataframe\">\n",
              "  <thead>\n",
              "    <tr style=\"text-align: right;\">\n",
              "      <th></th>\n",
              "      <th>name</th>\n",
              "      <th>tony</th>\n",
              "      <th>born</th>\n",
              "    </tr>\n",
              "  </thead>\n",
              "  <tbody>\n",
              "    <tr>\n",
              "      <th>0</th>\n",
              "      <td>Alfred</td>\n",
              "      <td>NaN</td>\n",
              "      <td>NaT</td>\n",
              "    </tr>\n",
              "    <tr>\n",
              "      <th>1</th>\n",
              "      <td>Batman</td>\n",
              "      <td>Batmobile</td>\n",
              "      <td>1940-04-25</td>\n",
              "    </tr>\n",
              "  </tbody>\n",
              "</table>\n",
              "</div>"
            ],
            "text/plain": [
              "     name       tony       born\n",
              "0  Alfred        NaN        NaT\n",
              "1  Batman  Batmobile 1940-04-25"
            ]
          },
          "metadata": {
            "tags": []
          },
          "execution_count": 69
        }
      ]
    },
    {
      "cell_type": "code",
      "metadata": {
        "id": "A5XcMNAX0loM",
        "colab_type": "code",
        "colab": {
          "base_uri": "https://localhost:8080/",
          "height": 111
        },
        "outputId": "d141a51a-1eed-437c-b177-9d51019e89f1"
      },
      "source": [
        "df1.drop_duplicates(subset=['name'],keep='last')  # All duplicates in name column will be deleted except last"
      ],
      "execution_count": 73,
      "outputs": [
        {
          "output_type": "execute_result",
          "data": {
            "text/html": [
              "<div>\n",
              "<style scoped>\n",
              "    .dataframe tbody tr th:only-of-type {\n",
              "        vertical-align: middle;\n",
              "    }\n",
              "\n",
              "    .dataframe tbody tr th {\n",
              "        vertical-align: top;\n",
              "    }\n",
              "\n",
              "    .dataframe thead th {\n",
              "        text-align: right;\n",
              "    }\n",
              "</style>\n",
              "<table border=\"1\" class=\"dataframe\">\n",
              "  <thead>\n",
              "    <tr style=\"text-align: right;\">\n",
              "      <th></th>\n",
              "      <th>name</th>\n",
              "      <th>tony</th>\n",
              "      <th>born</th>\n",
              "    </tr>\n",
              "  </thead>\n",
              "  <tbody>\n",
              "    <tr>\n",
              "      <th>1</th>\n",
              "      <td>Batman</td>\n",
              "      <td>Batmobile</td>\n",
              "      <td>1940-04-25</td>\n",
              "    </tr>\n",
              "    <tr>\n",
              "      <th>2</th>\n",
              "      <td>Alfred</td>\n",
              "      <td>Bullwhip</td>\n",
              "      <td>NaT</td>\n",
              "    </tr>\n",
              "  </tbody>\n",
              "</table>\n",
              "</div>"
            ],
            "text/plain": [
              "     name       tony       born\n",
              "1  Batman  Batmobile 1940-04-25\n",
              "2  Alfred   Bullwhip        NaT"
            ]
          },
          "metadata": {
            "tags": []
          },
          "execution_count": 73
        }
      ]
    },
    {
      "cell_type": "markdown",
      "metadata": {
        "id": "Lcc34t5c0222",
        "colab_type": "text"
      },
      "source": [
        "# Some important functions"
      ]
    },
    {
      "cell_type": "code",
      "metadata": {
        "id": "ySm_6-250vPr",
        "colab_type": "code",
        "colab": {
          "base_uri": "https://localhost:8080/",
          "height": 34
        },
        "outputId": "ba761d01-d723-438e-f5ee-3cb8ea4fdb1c"
      },
      "source": [
        "df1.shape # It will show the size of dataframe"
      ],
      "execution_count": 71,
      "outputs": [
        {
          "output_type": "execute_result",
          "data": {
            "text/plain": [
              "(3, 3)"
            ]
          },
          "metadata": {
            "tags": []
          },
          "execution_count": 71
        }
      ]
    },
    {
      "cell_type": "code",
      "metadata": {
        "id": "fWOPtdWe0vdI",
        "colab_type": "code",
        "colab": {
          "base_uri": "https://localhost:8080/",
          "height": 187
        },
        "outputId": "0cae32b8-e142-4c6c-c4db-688a0b069a65"
      },
      "source": [
        "df.info()"
      ],
      "execution_count": 72,
      "outputs": [
        {
          "output_type": "stream",
          "text": [
            "<class 'pandas.core.frame.DataFrame'>\n",
            "RangeIndex: 4 entries, 0 to 3\n",
            "Data columns (total 3 columns):\n",
            " #   Column  Non-Null Count  Dtype \n",
            "---  ------  --------------  ----- \n",
            " 0   name    4 non-null      object\n",
            " 1   marks   4 non-null      int64 \n",
            " 2   city    4 non-null      object\n",
            "dtypes: int64(1), object(2)\n",
            "memory usage: 224.0+ bytes\n"
          ],
          "name": "stdout"
        }
      ]
    },
    {
      "cell_type": "code",
      "metadata": {
        "id": "U7FnrPlt1jAs",
        "colab_type": "code",
        "colab": {
          "base_uri": "https://localhost:8080/",
          "height": 68
        },
        "outputId": "2ee49c3b-3eca-4ce6-8eb8-9bf46b278e97"
      },
      "source": [
        "df1['name'].value_counts(dropna=False)"
      ],
      "execution_count": 75,
      "outputs": [
        {
          "output_type": "execute_result",
          "data": {
            "text/plain": [
              "Alfred    2\n",
              "Batman    1\n",
              "Name: name, dtype: int64"
            ]
          },
          "metadata": {
            "tags": []
          },
          "execution_count": 75
        }
      ]
    },
    {
      "cell_type": "code",
      "metadata": {
        "id": "4BHTphQy1jOe",
        "colab_type": "code",
        "colab": {
          "base_uri": "https://localhost:8080/",
          "height": 142
        },
        "outputId": "508dea74-6e47-4d91-ba04-8fe90e3ff4ca"
      },
      "source": [
        "df1.isnull()"
      ],
      "execution_count": 77,
      "outputs": [
        {
          "output_type": "execute_result",
          "data": {
            "text/html": [
              "<div>\n",
              "<style scoped>\n",
              "    .dataframe tbody tr th:only-of-type {\n",
              "        vertical-align: middle;\n",
              "    }\n",
              "\n",
              "    .dataframe tbody tr th {\n",
              "        vertical-align: top;\n",
              "    }\n",
              "\n",
              "    .dataframe thead th {\n",
              "        text-align: right;\n",
              "    }\n",
              "</style>\n",
              "<table border=\"1\" class=\"dataframe\">\n",
              "  <thead>\n",
              "    <tr style=\"text-align: right;\">\n",
              "      <th></th>\n",
              "      <th>name</th>\n",
              "      <th>tony</th>\n",
              "      <th>born</th>\n",
              "    </tr>\n",
              "  </thead>\n",
              "  <tbody>\n",
              "    <tr>\n",
              "      <th>0</th>\n",
              "      <td>False</td>\n",
              "      <td>True</td>\n",
              "      <td>True</td>\n",
              "    </tr>\n",
              "    <tr>\n",
              "      <th>1</th>\n",
              "      <td>False</td>\n",
              "      <td>False</td>\n",
              "      <td>False</td>\n",
              "    </tr>\n",
              "    <tr>\n",
              "      <th>2</th>\n",
              "      <td>False</td>\n",
              "      <td>False</td>\n",
              "      <td>True</td>\n",
              "    </tr>\n",
              "  </tbody>\n",
              "</table>\n",
              "</div>"
            ],
            "text/plain": [
              "    name   tony   born\n",
              "0  False   True   True\n",
              "1  False  False  False\n",
              "2  False  False   True"
            ]
          },
          "metadata": {
            "tags": []
          },
          "execution_count": 77
        }
      ]
    },
    {
      "cell_type": "code",
      "metadata": {
        "id": "4i1hFnxW2VJ3",
        "colab_type": "code",
        "colab": {}
      },
      "source": [
        ""
      ],
      "execution_count": null,
      "outputs": []
    }
  ]
}